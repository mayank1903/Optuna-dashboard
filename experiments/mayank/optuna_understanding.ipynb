{
 "cells": [
  {
   "cell_type": "code",
   "execution_count": 34,
   "id": "f384d390-4aaa-4828-b659-5bf5de29e303",
   "metadata": {},
   "outputs": [],
   "source": [
    "import pandas as pd\n",
    "import numpy as np"
   ]
  },
  {
   "cell_type": "code",
   "execution_count": 35,
   "id": "1899cb2c-a968-4bfd-a2e2-db63fb1270b6",
   "metadata": {},
   "outputs": [],
   "source": [
    "import optuna"
   ]
  },
  {
   "cell_type": "markdown",
   "id": "20863b2f-9e38-4857-92ff-92746b12ff32",
   "metadata": {},
   "source": [
    "### Defining a simple objective function"
   ]
  },
  {
   "cell_type": "code",
   "execution_count": 36,
   "id": "47411dfc-8d81-4a13-832a-8e0b857f7e04",
   "metadata": {},
   "outputs": [],
   "source": [
    "def objective(trial):\n",
    "    x = trial.suggest_float('x', -10, 10)\n",
    "    return (x - 2) ** 2\n"
   ]
  },
  {
   "cell_type": "code",
   "execution_count": 37,
   "id": "d7fd586b-b59f-4b2a-af99-c39edb7e3070",
   "metadata": {},
   "outputs": [],
   "source": [
    "#define th epruner and sampler\n",
    "study_pruner = optuna.pruners.MedianPruner()\n",
    "study_sampler = optuna.samplers.RandomSampler()"
   ]
  },
  {
   "cell_type": "code",
   "execution_count": 38,
   "id": "5296744c-39f4-4c15-bf73-687e125a65d9",
   "metadata": {},
   "outputs": [
    {
     "name": "stderr",
     "output_type": "stream",
     "text": [
      "[I 2024-01-12 19:58:16,801] A new study created in memory with name: basic_objective_function\n",
      "[I 2024-01-12 19:58:16,804] Trial 0 finished with value: 2.93690014796091 and parameters: {'x': 3.7137386463404827}. Best is trial 0 with value: 2.93690014796091.\n",
      "[I 2024-01-12 19:58:16,806] Trial 1 finished with value: 103.95689198940026 and parameters: {'x': -8.195925264016026}. Best is trial 1 with value: 103.95689198940026.\n",
      "[I 2024-01-12 19:58:16,807] Trial 2 finished with value: 85.19490772678625 and parameters: {'x': -7.23010876029022}. Best is trial 1 with value: 103.95689198940026.\n",
      "[I 2024-01-12 19:58:16,808] Trial 3 finished with value: 81.27047502694677 and parameters: {'x': -7.015013867263143}. Best is trial 1 with value: 103.95689198940026.\n",
      "[I 2024-01-12 19:58:16,809] Trial 4 finished with value: 13.937378323996345 and parameters: {'x': 5.733279834675717}. Best is trial 1 with value: 103.95689198940026.\n",
      "[I 2024-01-12 19:58:16,810] Trial 5 finished with value: 22.384606464767348 and parameters: {'x': 6.731237308016514}. Best is trial 1 with value: 103.95689198940026.\n",
      "[I 2024-01-12 19:58:16,812] Trial 6 finished with value: 0.11583125172636187 and parameters: {'x': 2.3403399061620043}. Best is trial 1 with value: 103.95689198940026.\n",
      "[I 2024-01-12 19:58:16,813] Trial 7 finished with value: 3.7930496947181243 and parameters: {'x': 3.9475753373664713}. Best is trial 1 with value: 103.95689198940026.\n",
      "[I 2024-01-12 19:58:16,815] Trial 8 finished with value: 61.836161056200794 and parameters: {'x': -5.863597208415547}. Best is trial 1 with value: 103.95689198940026.\n",
      "[I 2024-01-12 19:58:16,815] Trial 9 finished with value: 0.027850532546690177 and parameters: {'x': 1.8331152117576615}. Best is trial 1 with value: 103.95689198940026.\n",
      "[I 2024-01-12 19:58:16,816] Trial 10 finished with value: 9.121943844011966 and parameters: {'x': 5.020255592497424}. Best is trial 1 with value: 103.95689198940026.\n",
      "[I 2024-01-12 19:58:16,817] Trial 11 finished with value: 16.34947691200852 and parameters: {'x': -2.043448640951004}. Best is trial 1 with value: 103.95689198940026.\n",
      "[I 2024-01-12 19:58:16,818] Trial 12 finished with value: 63.58565222446606 and parameters: {'x': -5.974061212736334}. Best is trial 1 with value: 103.95689198940026.\n",
      "[I 2024-01-12 19:58:16,818] Trial 13 finished with value: 46.41569139561355 and parameters: {'x': 8.812906237107153}. Best is trial 1 with value: 103.95689198940026.\n",
      "[I 2024-01-12 19:58:16,819] Trial 14 finished with value: 87.18140401676773 and parameters: {'x': -7.337098265348166}. Best is trial 1 with value: 103.95689198940026.\n",
      "[I 2024-01-12 19:58:16,821] Trial 15 finished with value: 33.29528335117014 and parameters: {'x': -3.7702065258680424}. Best is trial 1 with value: 103.95689198940026.\n",
      "[I 2024-01-12 19:58:16,822] Trial 16 finished with value: 45.513771567344 and parameters: {'x': 8.746389520872924}. Best is trial 1 with value: 103.95689198940026.\n",
      "[I 2024-01-12 19:58:16,823] Trial 17 finished with value: 42.702059526866734 and parameters: {'x': -4.534681287321267}. Best is trial 1 with value: 103.95689198940026.\n",
      "[I 2024-01-12 19:58:16,824] Trial 18 finished with value: 123.80233898831156 and parameters: {'x': -9.126649944539082}. Best is trial 18 with value: 123.80233898831156.\n",
      "[I 2024-01-12 19:58:16,825] Trial 19 finished with value: 0.14472085084660205 and parameters: {'x': 2.3804219379144715}. Best is trial 18 with value: 123.80233898831156.\n",
      "[I 2024-01-12 19:58:16,826] Trial 20 finished with value: 32.621689084947015 and parameters: {'x': -3.7115399924142185}. Best is trial 18 with value: 123.80233898831156.\n",
      "[I 2024-01-12 19:58:16,827] Trial 21 finished with value: 33.198867690428564 and parameters: {'x': -3.7618458579198872}. Best is trial 18 with value: 123.80233898831156.\n",
      "[I 2024-01-12 19:58:16,828] Trial 22 finished with value: 116.80860910048503 and parameters: {'x': -8.807803157926454}. Best is trial 18 with value: 123.80233898831156.\n",
      "[I 2024-01-12 19:58:16,829] Trial 23 finished with value: 0.6767965913335194 and parameters: {'x': 1.1773235196424299}. Best is trial 18 with value: 123.80233898831156.\n",
      "[I 2024-01-12 19:58:16,829] Trial 24 finished with value: 122.29244415641463 and parameters: {'x': -9.058591418278127}. Best is trial 18 with value: 123.80233898831156.\n",
      "[I 2024-01-12 19:58:16,830] Trial 25 finished with value: 23.07146587296942 and parameters: {'x': -2.8032765767722996}. Best is trial 18 with value: 123.80233898831156.\n",
      "[I 2024-01-12 19:58:16,831] Trial 26 finished with value: 45.90316578371435 and parameters: {'x': -4.775187509118426}. Best is trial 18 with value: 123.80233898831156.\n",
      "[I 2024-01-12 19:58:16,832] Trial 27 finished with value: 137.9221356941012 and parameters: {'x': -9.744025531907754}. Best is trial 27 with value: 137.9221356941012.\n",
      "[I 2024-01-12 19:58:16,833] Trial 28 finished with value: 46.63732063860423 and parameters: {'x': -4.829152263539321}. Best is trial 27 with value: 137.9221356941012.\n",
      "[I 2024-01-12 19:58:16,833] Trial 29 finished with value: 2.911144966560849 and parameters: {'x': 3.7062077735612533}. Best is trial 27 with value: 137.9221356941012.\n",
      "[I 2024-01-12 19:58:16,834] Trial 30 finished with value: 45.981561323202975 and parameters: {'x': 8.780970529592572}. Best is trial 27 with value: 137.9221356941012.\n",
      "[I 2024-01-12 19:58:16,835] Trial 31 finished with value: 96.19169227713344 and parameters: {'x': -7.807736348267802}. Best is trial 27 with value: 137.9221356941012.\n",
      "[I 2024-01-12 19:58:16,836] Trial 32 finished with value: 50.77485699855051 and parameters: {'x': 9.125647830095907}. Best is trial 27 with value: 137.9221356941012.\n",
      "[I 2024-01-12 19:58:16,837] Trial 33 finished with value: 0.21036126385454534 and parameters: {'x': 1.541348428701541}. Best is trial 27 with value: 137.9221356941012.\n",
      "[I 2024-01-12 19:58:16,837] Trial 34 finished with value: 25.026219524415474 and parameters: {'x': -3.00262126533835}. Best is trial 27 with value: 137.9221356941012.\n",
      "[I 2024-01-12 19:58:16,838] Trial 35 finished with value: 39.06740382610395 and parameters: {'x': -4.2503922937767635}. Best is trial 27 with value: 137.9221356941012.\n",
      "[I 2024-01-12 19:58:16,839] Trial 36 finished with value: 3.6773590782835512 and parameters: {'x': 0.08235585201957996}. Best is trial 27 with value: 137.9221356941012.\n",
      "[I 2024-01-12 19:58:16,840] Trial 37 finished with value: 137.5543459869935 and parameters: {'x': -9.72835649129892}. Best is trial 27 with value: 137.9221356941012.\n",
      "[I 2024-01-12 19:58:16,840] Trial 38 finished with value: 23.054977946198083 and parameters: {'x': -2.801559949245462}. Best is trial 27 with value: 137.9221356941012.\n",
      "[I 2024-01-12 19:58:16,841] Trial 39 finished with value: 101.26277666673955 and parameters: {'x': -8.062940756396191}. Best is trial 27 with value: 137.9221356941012.\n",
      "[I 2024-01-12 19:58:16,842] Trial 40 finished with value: 14.78147723418052 and parameters: {'x': -1.8446686767757399}. Best is trial 27 with value: 137.9221356941012.\n",
      "[I 2024-01-12 19:58:16,843] Trial 41 finished with value: 61.398750096510746 and parameters: {'x': -5.835735453453667}. Best is trial 27 with value: 137.9221356941012.\n",
      "[I 2024-01-12 19:58:16,843] Trial 42 finished with value: 12.539031649798229 and parameters: {'x': -1.5410495124748298}. Best is trial 27 with value: 137.9221356941012.\n",
      "[I 2024-01-12 19:58:16,844] Trial 43 finished with value: 26.362103771125707 and parameters: {'x': -3.1344039353293685}. Best is trial 27 with value: 137.9221356941012.\n",
      "[I 2024-01-12 19:58:16,845] Trial 44 finished with value: 3.413783653708674 and parameters: {'x': 3.847642728913973}. Best is trial 27 with value: 137.9221356941012.\n",
      "[I 2024-01-12 19:58:16,846] Trial 45 finished with value: 0.15440143201047885 and parameters: {'x': 1.6070605237310982}. Best is trial 27 with value: 137.9221356941012.\n",
      "[I 2024-01-12 19:58:16,847] Trial 46 finished with value: 4.324329896299365 and parameters: {'x': -0.0795023193782125}. Best is trial 27 with value: 137.9221356941012.\n",
      "[I 2024-01-12 19:58:16,848] Trial 47 finished with value: 0.13091027765106247 and parameters: {'x': 1.6381847465196326}. Best is trial 27 with value: 137.9221356941012.\n",
      "[I 2024-01-12 19:58:16,849] Trial 48 finished with value: 0.26611371490638175 and parameters: {'x': 1.4841378915772339}. Best is trial 27 with value: 137.9221356941012.\n",
      "[I 2024-01-12 19:58:16,850] Trial 49 finished with value: 44.74813732365834 and parameters: {'x': -4.689404855714621}. Best is trial 27 with value: 137.9221356941012.\n",
      "[I 2024-01-12 19:58:16,851] Trial 50 finished with value: 133.5741996214995 and parameters: {'x': -9.55743049390735}. Best is trial 27 with value: 137.9221356941012.\n",
      "[I 2024-01-12 19:58:16,853] Trial 51 finished with value: 0.7256077553118357 and parameters: {'x': 1.1481738702576472}. Best is trial 27 with value: 137.9221356941012.\n",
      "[I 2024-01-12 19:58:16,854] Trial 52 finished with value: 42.95770712737192 and parameters: {'x': 8.554212929663784}. Best is trial 27 with value: 137.9221356941012.\n",
      "[I 2024-01-12 19:58:16,855] Trial 53 finished with value: 128.0769280000758 and parameters: {'x': -9.317107757730144}. Best is trial 27 with value: 137.9221356941012.\n",
      "[I 2024-01-12 19:58:16,856] Trial 54 finished with value: 92.10447538857025 and parameters: {'x': -7.597107657444}. Best is trial 27 with value: 137.9221356941012.\n",
      "[I 2024-01-12 19:58:16,856] Trial 55 finished with value: 0.6692025113405068 and parameters: {'x': 2.818047988409303}. Best is trial 27 with value: 137.9221356941012.\n",
      "[I 2024-01-12 19:58:16,857] Trial 56 finished with value: 13.95256666601242 and parameters: {'x': -1.7353134628853333}. Best is trial 27 with value: 137.9221356941012.\n",
      "[I 2024-01-12 19:58:16,858] Trial 57 finished with value: 104.99630232413969 and parameters: {'x': -8.246770336263992}. Best is trial 27 with value: 137.9221356941012.\n",
      "[I 2024-01-12 19:58:16,859] Trial 58 finished with value: 6.2901476389306845 and parameters: {'x': 4.508016674372538}. Best is trial 27 with value: 137.9221356941012.\n",
      "[I 2024-01-12 19:58:16,859] Trial 59 finished with value: 7.160674349557257 and parameters: {'x': 4.675943637216086}. Best is trial 27 with value: 137.9221356941012.\n",
      "[I 2024-01-12 19:58:16,860] Trial 60 finished with value: 69.69223769973176 and parameters: {'x': -6.34818768953668}. Best is trial 27 with value: 137.9221356941012.\n",
      "[I 2024-01-12 19:58:16,861] Trial 61 finished with value: 121.31727151534662 and parameters: {'x': -9.014411991356898}. Best is trial 27 with value: 137.9221356941012.\n",
      "[I 2024-01-12 19:58:16,862] Trial 62 finished with value: 46.1136266571317 and parameters: {'x': 8.790701484907999}. Best is trial 27 with value: 137.9221356941012.\n",
      "[I 2024-01-12 19:58:16,863] Trial 63 finished with value: 143.9343454290931 and parameters: {'x': -9.997264080993345}. Best is trial 63 with value: 143.9343454290931.\n",
      "[I 2024-01-12 19:58:16,863] Trial 64 finished with value: 46.91406077478203 and parameters: {'x': -4.8493839704590975}. Best is trial 63 with value: 143.9343454290931.\n",
      "[I 2024-01-12 19:58:16,864] Trial 65 finished with value: 12.522008079640287 and parameters: {'x': -1.538644949643901}. Best is trial 63 with value: 143.9343454290931.\n",
      "[I 2024-01-12 19:58:16,865] Trial 66 finished with value: 7.220774093626341 and parameters: {'x': 4.687149808556706}. Best is trial 63 with value: 143.9343454290931.\n",
      "[I 2024-01-12 19:58:16,865] Trial 67 finished with value: 30.63028692834707 and parameters: {'x': -3.5344635628348904}. Best is trial 63 with value: 143.9343454290931.\n",
      "[I 2024-01-12 19:58:16,866] Trial 68 finished with value: 9.88464795841425 and parameters: {'x': 5.143985998444371}. Best is trial 63 with value: 143.9343454290931.\n",
      "[I 2024-01-12 19:58:16,867] Trial 69 finished with value: 29.600692437252913 and parameters: {'x': -3.4406518393711716}. Best is trial 63 with value: 143.9343454290931.\n",
      "[I 2024-01-12 19:58:16,868] Trial 70 finished with value: 7.469760866342285 and parameters: {'x': 4.733086326178206}. Best is trial 63 with value: 143.9343454290931.\n",
      "[I 2024-01-12 19:58:16,869] Trial 71 finished with value: 6.1729943835613375 and parameters: {'x': -0.48455114327746074}. Best is trial 63 with value: 143.9343454290931.\n",
      "[I 2024-01-12 19:58:16,870] Trial 72 finished with value: 80.22653118696805 and parameters: {'x': -6.956926436393682}. Best is trial 63 with value: 143.9343454290931.\n",
      "[I 2024-01-12 19:58:16,871] Trial 73 finished with value: 91.31677000803359 and parameters: {'x': -7.555980850129074}. Best is trial 63 with value: 143.9343454290931.\n",
      "[I 2024-01-12 19:58:16,872] Trial 74 finished with value: 123.15870478516031 and parameters: {'x': -9.097689164198117}. Best is trial 63 with value: 143.9343454290931.\n",
      "[I 2024-01-12 19:58:16,872] Trial 75 finished with value: 98.3573332310828 and parameters: {'x': -7.91752656820655}. Best is trial 63 with value: 143.9343454290931.\n",
      "[I 2024-01-12 19:58:16,873] Trial 76 finished with value: 36.85800930670251 and parameters: {'x': 8.07107974801044}. Best is trial 63 with value: 143.9343454290931.\n",
      "[I 2024-01-12 19:58:16,874] Trial 77 finished with value: 69.36876723749968 and parameters: {'x': -6.328791463201591}. Best is trial 63 with value: 143.9343454290931.\n",
      "[I 2024-01-12 19:58:16,875] Trial 78 finished with value: 4.636434817062678 and parameters: {'x': 4.15323821651546}. Best is trial 63 with value: 143.9343454290931.\n",
      "[I 2024-01-12 19:58:16,876] Trial 79 finished with value: 4.526694032768363 and parameters: {'x': 4.1276028841793675}. Best is trial 63 with value: 143.9343454290931.\n",
      "[I 2024-01-12 19:58:16,876] Trial 80 finished with value: 7.453689865668247 and parameters: {'x': 4.730144660209097}. Best is trial 63 with value: 143.9343454290931.\n",
      "[I 2024-01-12 19:58:16,877] Trial 81 finished with value: 7.738418338847135 and parameters: {'x': 4.781801275944623}. Best is trial 63 with value: 143.9343454290931.\n",
      "[I 2024-01-12 19:58:16,878] Trial 82 finished with value: 13.520649796586143 and parameters: {'x': 5.677043621795388}. Best is trial 63 with value: 143.9343454290931.\n",
      "[I 2024-01-12 19:58:16,879] Trial 83 finished with value: 102.00888886832324 and parameters: {'x': -8.09994499333156}. Best is trial 63 with value: 143.9343454290931.\n",
      "[I 2024-01-12 19:58:16,879] Trial 84 finished with value: 18.561022718015472 and parameters: {'x': -2.308250540302348}. Best is trial 63 with value: 143.9343454290931.\n",
      "[I 2024-01-12 19:58:16,880] Trial 85 finished with value: 14.182207787020163 and parameters: {'x': 5.765927214779936}. Best is trial 63 with value: 143.9343454290931.\n",
      "[I 2024-01-12 19:58:16,881] Trial 86 finished with value: 17.64151007998143 and parameters: {'x': 6.200179767579172}. Best is trial 63 with value: 143.9343454290931.\n",
      "[I 2024-01-12 19:58:16,881] Trial 87 finished with value: 1.231917737514102 and parameters: {'x': 0.8900821032553345}. Best is trial 63 with value: 143.9343454290931.\n",
      "[I 2024-01-12 19:58:16,883] Trial 88 finished with value: 1.1318343460474198 and parameters: {'x': 0.9361229647899059}. Best is trial 63 with value: 143.9343454290931.\n",
      "[I 2024-01-12 19:58:16,884] Trial 89 finished with value: 63.46944791707821 and parameters: {'x': 9.966771486435281}. Best is trial 63 with value: 143.9343454290931.\n",
      "[I 2024-01-12 19:58:16,885] Trial 90 finished with value: 15.91074039801598 and parameters: {'x': 5.988826945107544}. Best is trial 63 with value: 143.9343454290931.\n",
      "[I 2024-01-12 19:58:16,886] Trial 91 finished with value: 84.37523568214951 and parameters: {'x': -7.185599364339243}. Best is trial 63 with value: 143.9343454290931.\n",
      "[I 2024-01-12 19:58:16,887] Trial 92 finished with value: 2.2543790194128386 and parameters: {'x': 3.501458963612672}. Best is trial 63 with value: 143.9343454290931.\n",
      "[I 2024-01-12 19:58:16,888] Trial 93 finished with value: 48.273000119743024 and parameters: {'x': 8.947877382319223}. Best is trial 63 with value: 143.9343454290931.\n",
      "[I 2024-01-12 19:58:16,889] Trial 94 finished with value: 74.91038901205275 and parameters: {'x': -6.655078798720018}. Best is trial 63 with value: 143.9343454290931.\n",
      "[I 2024-01-12 19:58:16,890] Trial 95 finished with value: 9.305393426233096 and parameters: {'x': -1.0504742952913233}. Best is trial 63 with value: 143.9343454290931.\n",
      "[I 2024-01-12 19:58:16,891] Trial 96 finished with value: 0.13587645974424284 and parameters: {'x': 1.6313857575401585}. Best is trial 63 with value: 143.9343454290931.\n",
      "[I 2024-01-12 19:58:16,891] Trial 97 finished with value: 87.28152344230011 and parameters: {'x': -7.3424581049261395}. Best is trial 63 with value: 143.9343454290931.\n",
      "[I 2024-01-12 19:58:16,892] Trial 98 finished with value: 36.952202368600794 and parameters: {'x': 8.07883231950025}. Best is trial 63 with value: 143.9343454290931.\n",
      "[I 2024-01-12 19:58:16,893] Trial 99 finished with value: 13.96640910465495 and parameters: {'x': -1.737165918801967}. Best is trial 63 with value: 143.9343454290931.\n"
     ]
    }
   ],
   "source": [
    "study = optuna.create_study(study_name=\"basic_objective_function\", sampler=study_sampler, pruner=study_pruner, direction='maximize')\n",
    "study.optimize(objective, n_trials=100)"
   ]
  },
  {
   "cell_type": "code",
   "execution_count": 39,
   "id": "f347aa9e-8e59-4a45-8cb2-55e30c20cde5",
   "metadata": {},
   "outputs": [
    {
     "data": {
      "text/plain": [
       "{'x': -9.997264080993345}"
      ]
     },
     "execution_count": 39,
     "metadata": {},
     "output_type": "execute_result"
    }
   ],
   "source": [
    "#get the best aprams\n",
    "study.best_params  # E.g. {'x': 2.002108042}"
   ]
  },
  {
   "cell_type": "code",
   "execution_count": 40,
   "id": "65d38362-42eb-41c1-8a9d-581aaccaa703",
   "metadata": {},
   "outputs": [
    {
     "data": {
      "text/plain": [
       "FrozenTrial(number=63, state=TrialState.COMPLETE, values=[143.9343454290931], datetime_start=datetime.datetime(2024, 1, 12, 19, 58, 16, 862748), datetime_complete=datetime.datetime(2024, 1, 12, 19, 58, 16, 862890), params={'x': -9.997264080993345}, user_attrs={}, system_attrs={}, intermediate_values={}, distributions={'x': FloatDistribution(high=10.0, log=False, low=-10.0, step=None)}, trial_id=63, value=None)"
      ]
     },
     "execution_count": 40,
     "metadata": {},
     "output_type": "execute_result"
    }
   ],
   "source": [
    "#get the best trial\n",
    "study.best_trial"
   ]
  },
  {
   "cell_type": "code",
   "execution_count": 41,
   "id": "c0e76ce1-55d2-4ff8-b734-f4f5d842a3c9",
   "metadata": {},
   "outputs": [
    {
     "data": {
      "text/plain": [
       "143.9343454290931"
      ]
     },
     "execution_count": 41,
     "metadata": {},
     "output_type": "execute_result"
    }
   ],
   "source": [
    "#get the best value of 'x' in the object function\n",
    "study.best_value"
   ]
  },
  {
   "cell_type": "code",
   "execution_count": 42,
   "id": "6ad7bad8-73b5-494d-a624-af8529d0b0cb",
   "metadata": {},
   "outputs": [
    {
     "data": {
      "text/plain": [
       "'basic_objective_function'"
      ]
     },
     "execution_count": 42,
     "metadata": {},
     "output_type": "execute_result"
    }
   ],
   "source": [
    "#get the study name\n",
    "study.study_name"
   ]
  },
  {
   "cell_type": "code",
   "execution_count": 43,
   "id": "b80383da-880a-4fe0-9362-2c1b2e10a026",
   "metadata": {},
   "outputs": [
    {
     "data": {
      "text/html": [
       "<div>\n",
       "<style scoped>\n",
       "    .dataframe tbody tr th:only-of-type {\n",
       "        vertical-align: middle;\n",
       "    }\n",
       "\n",
       "    .dataframe tbody tr th {\n",
       "        vertical-align: top;\n",
       "    }\n",
       "\n",
       "    .dataframe thead th {\n",
       "        text-align: right;\n",
       "    }\n",
       "</style>\n",
       "<table border=\"1\" class=\"dataframe\">\n",
       "  <thead>\n",
       "    <tr style=\"text-align: right;\">\n",
       "      <th></th>\n",
       "      <th>number</th>\n",
       "      <th>value</th>\n",
       "      <th>params_x</th>\n",
       "      <th>state</th>\n",
       "    </tr>\n",
       "  </thead>\n",
       "  <tbody>\n",
       "    <tr>\n",
       "      <th>0</th>\n",
       "      <td>0</td>\n",
       "      <td>2.936900</td>\n",
       "      <td>3.713739</td>\n",
       "      <td>COMPLETE</td>\n",
       "    </tr>\n",
       "    <tr>\n",
       "      <th>1</th>\n",
       "      <td>1</td>\n",
       "      <td>103.956892</td>\n",
       "      <td>-8.195925</td>\n",
       "      <td>COMPLETE</td>\n",
       "    </tr>\n",
       "    <tr>\n",
       "      <th>2</th>\n",
       "      <td>2</td>\n",
       "      <td>85.194908</td>\n",
       "      <td>-7.230109</td>\n",
       "      <td>COMPLETE</td>\n",
       "    </tr>\n",
       "    <tr>\n",
       "      <th>3</th>\n",
       "      <td>3</td>\n",
       "      <td>81.270475</td>\n",
       "      <td>-7.015014</td>\n",
       "      <td>COMPLETE</td>\n",
       "    </tr>\n",
       "    <tr>\n",
       "      <th>4</th>\n",
       "      <td>4</td>\n",
       "      <td>13.937378</td>\n",
       "      <td>5.733280</td>\n",
       "      <td>COMPLETE</td>\n",
       "    </tr>\n",
       "    <tr>\n",
       "      <th>...</th>\n",
       "      <td>...</td>\n",
       "      <td>...</td>\n",
       "      <td>...</td>\n",
       "      <td>...</td>\n",
       "    </tr>\n",
       "    <tr>\n",
       "      <th>95</th>\n",
       "      <td>95</td>\n",
       "      <td>9.305393</td>\n",
       "      <td>-1.050474</td>\n",
       "      <td>COMPLETE</td>\n",
       "    </tr>\n",
       "    <tr>\n",
       "      <th>96</th>\n",
       "      <td>96</td>\n",
       "      <td>0.135876</td>\n",
       "      <td>1.631386</td>\n",
       "      <td>COMPLETE</td>\n",
       "    </tr>\n",
       "    <tr>\n",
       "      <th>97</th>\n",
       "      <td>97</td>\n",
       "      <td>87.281523</td>\n",
       "      <td>-7.342458</td>\n",
       "      <td>COMPLETE</td>\n",
       "    </tr>\n",
       "    <tr>\n",
       "      <th>98</th>\n",
       "      <td>98</td>\n",
       "      <td>36.952202</td>\n",
       "      <td>8.078832</td>\n",
       "      <td>COMPLETE</td>\n",
       "    </tr>\n",
       "    <tr>\n",
       "      <th>99</th>\n",
       "      <td>99</td>\n",
       "      <td>13.966409</td>\n",
       "      <td>-1.737166</td>\n",
       "      <td>COMPLETE</td>\n",
       "    </tr>\n",
       "  </tbody>\n",
       "</table>\n",
       "<p>100 rows × 4 columns</p>\n",
       "</div>"
      ],
      "text/plain": [
       "    number       value  params_x     state\n",
       "0        0    2.936900  3.713739  COMPLETE\n",
       "1        1  103.956892 -8.195925  COMPLETE\n",
       "2        2   85.194908 -7.230109  COMPLETE\n",
       "3        3   81.270475 -7.015014  COMPLETE\n",
       "4        4   13.937378  5.733280  COMPLETE\n",
       "..     ...         ...       ...       ...\n",
       "95      95    9.305393 -1.050474  COMPLETE\n",
       "96      96    0.135876  1.631386  COMPLETE\n",
       "97      97   87.281523 -7.342458  COMPLETE\n",
       "98      98   36.952202  8.078832  COMPLETE\n",
       "99      99   13.966409 -1.737166  COMPLETE\n",
       "\n",
       "[100 rows x 4 columns]"
      ]
     },
     "execution_count": 43,
     "metadata": {},
     "output_type": "execute_result"
    }
   ],
   "source": [
    "#get the complete dataframe of the trials\n",
    "study.trials_dataframe(attrs=(\"number\", \"value\", \"params\", \"state\"))"
   ]
  },
  {
   "cell_type": "markdown",
   "id": "6e14b5b6-ad29-41bc-b967-4c9a49900dd0",
   "metadata": {},
   "source": [
    "### Visualising the results using the optuna dashboard"
   ]
  },
  {
   "cell_type": "code",
   "execution_count": 44,
   "id": "2598481e-e978-47e0-abbd-94acc7f14e2e",
   "metadata": {},
   "outputs": [],
   "source": [
    "import optuna\n",
    "from optuna_dashboard import run_server"
   ]
  },
  {
   "cell_type": "code",
   "execution_count": 19,
   "id": "c1c70af6-4476-42b7-a9db-867f7aedeed0",
   "metadata": {
    "collapsed": true,
    "jupyter": {
     "outputs_hidden": true
    },
    "tags": []
   },
   "outputs": [
    {
     "name": "stderr",
     "output_type": "stream",
     "text": [
      "[I 2024-01-12 19:39:40,813] A new study created in memory with name: simple addition\n",
      "[I 2024-01-12 19:39:40,818] Trial 0 finished with value: 12.839502453410002 and parameters: {'a': 2.8693424417706277, 'b': 9.970160011639376}. Best is trial 0 with value: 12.839502453410002.\n",
      "[I 2024-01-12 19:39:40,819] Trial 1 finished with value: 7.340658132260577 and parameters: {'a': 4.053937986737872, 'b': 3.286720145522705}. Best is trial 0 with value: 12.839502453410002.\n",
      "[I 2024-01-12 19:39:40,821] Trial 2 finished with value: 11.095933685558677 and parameters: {'a': 1.8276817058704196, 'b': 9.268251979688257}. Best is trial 0 with value: 12.839502453410002.\n",
      "[I 2024-01-12 19:39:40,822] Trial 3 finished with value: 8.648205405059793 and parameters: {'a': 2.56259815851364, 'b': 6.085607246546153}. Best is trial 0 with value: 12.839502453410002.\n",
      "[I 2024-01-12 19:39:40,823] Trial 4 finished with value: 17.014403595390462 and parameters: {'a': 8.350267570051189, 'b': 8.664136025339275}. Best is trial 4 with value: 17.014403595390462.\n",
      "[I 2024-01-12 19:39:40,824] Trial 5 finished with value: 10.059518775482772 and parameters: {'a': 7.592618360930794, 'b': 2.4669004145519784}. Best is trial 4 with value: 17.014403595390462.\n",
      "[I 2024-01-12 19:39:40,826] Trial 6 finished with value: 6.9875499403112995 and parameters: {'a': 5.224903451210809, 'b': 1.7626464891004912}. Best is trial 4 with value: 17.014403595390462.\n",
      "[I 2024-01-12 19:39:40,826] Trial 7 finished with value: 4.459581985476909 and parameters: {'a': 2.5490361443632055, 'b': 1.9105458411137035}. Best is trial 4 with value: 17.014403595390462.\n",
      "[I 2024-01-12 19:39:40,827] Trial 8 finished with value: 9.609050217270132 and parameters: {'a': 7.097859089903306, 'b': 2.511191127366827}. Best is trial 4 with value: 17.014403595390462.\n",
      "[I 2024-01-12 19:39:40,828] Trial 9 finished with value: 9.210873034172883 and parameters: {'a': 4.1067946370323964, 'b': 5.104078397140486}. Best is trial 4 with value: 17.014403595390462.\n",
      "[I 2024-01-12 19:39:40,837] Trial 10 finished with value: 17.164456223976835 and parameters: {'a': 9.358820139802116, 'b': 7.8056360841747185}. Best is trial 10 with value: 17.164456223976835.\n",
      "[I 2024-01-12 19:39:40,843] Trial 11 finished with value: 17.436539742622834 and parameters: {'a': 9.496561461346932, 'b': 7.939978281275903}. Best is trial 11 with value: 17.436539742622834.\n",
      "[I 2024-01-12 19:39:40,848] Trial 12 finished with value: 17.248053661649948 and parameters: {'a': 9.720841890891508, 'b': 7.527211770758441}. Best is trial 11 with value: 17.436539742622834.\n",
      "[I 2024-01-12 19:39:40,854] Trial 13 finished with value: 16.86665122015421 and parameters: {'a': 9.54696674390389, 'b': 7.319684476250318}. Best is trial 11 with value: 17.436539742622834.\n",
      "[I 2024-01-12 19:39:40,861] Trial 14 finished with value: 12.672259071156432 and parameters: {'a': 6.453100484362613, 'b': 6.21915858679382}. Best is trial 11 with value: 17.436539742622834.\n",
      "[I 2024-01-12 19:39:40,866] Trial 15 finished with value: 13.30715980099564 and parameters: {'a': 8.52754431773115, 'b': 4.7796154832644895}. Best is trial 11 with value: 17.436539742622834.\n",
      "[I 2024-01-12 19:39:40,872] Trial 16 finished with value: 17.371155662639 and parameters: {'a': 9.901571627404982, 'b': 7.469584035234019}. Best is trial 11 with value: 17.436539742622834.\n",
      "[I 2024-01-12 19:39:40,877] Trial 17 finished with value: 15.160420620907338 and parameters: {'a': 8.389950098148597, 'b': 6.77047052275874}. Best is trial 11 with value: 17.436539742622834.\n",
      "[I 2024-01-12 19:39:40,883] Trial 18 finished with value: 14.086616958471993 and parameters: {'a': 5.848300728807704, 'b': 8.238316229664289}. Best is trial 11 with value: 17.436539742622834.\n",
      "[I 2024-01-12 19:39:40,888] Trial 19 finished with value: 14.37991755169133 and parameters: {'a': 9.884744652582572, 'b': 4.495172899108757}. Best is trial 11 with value: 17.436539742622834.\n",
      "[I 2024-01-12 19:39:40,895] Trial 20 finished with value: 16.099975983487127 and parameters: {'a': 7.309156931362967, 'b': 8.790819052124162}. Best is trial 11 with value: 17.436539742622834.\n",
      "[I 2024-01-12 19:39:40,901] Trial 21 finished with value: 16.287578727659145 and parameters: {'a': 8.999369912773014, 'b': 7.288208814886131}. Best is trial 11 with value: 17.436539742622834.\n",
      "[I 2024-01-12 19:39:40,907] Trial 22 finished with value: 15.76707331789287 and parameters: {'a': 9.731604919839915, 'b': 6.035468398052954}. Best is trial 11 with value: 17.436539742622834.\n",
      "[I 2024-01-12 19:39:40,915] Trial 23 finished with value: 15.52965444897728 and parameters: {'a': 7.824813772166178, 'b': 7.704840676811101}. Best is trial 11 with value: 17.436539742622834.\n",
      "[I 2024-01-12 19:39:40,922] Trial 24 finished with value: 15.61395672340232 and parameters: {'a': 8.825984204932388, 'b': 6.787972518469932}. Best is trial 11 with value: 17.436539742622834.\n",
      "[I 2024-01-12 19:39:40,929] Trial 25 finished with value: 19.576120780500716 and parameters: {'a': 9.935501950263815, 'b': 9.640618830236903}. Best is trial 25 with value: 19.576120780500716.\n",
      "[I 2024-01-12 19:39:40,936] Trial 26 finished with value: 18.891951299504946 and parameters: {'a': 8.9490219704833, 'b': 9.942929329021648}. Best is trial 25 with value: 19.576120780500716.\n",
      "[I 2024-01-12 19:39:40,944] Trial 27 finished with value: 17.610853523055656 and parameters: {'a': 7.861339508015987, 'b': 9.749514015039669}. Best is trial 25 with value: 19.576120780500716.\n",
      "[I 2024-01-12 19:39:40,951] Trial 28 finished with value: 16.315018344859027 and parameters: {'a': 6.51706654871993, 'b': 9.797951796139099}. Best is trial 25 with value: 19.576120780500716.\n",
      "[I 2024-01-12 19:39:40,958] Trial 29 finished with value: 17.976057524743787 and parameters: {'a': 7.980916408071808, 'b': 9.99514111667198}. Best is trial 25 with value: 19.576120780500716.\n",
      "[I 2024-01-12 19:39:40,965] Trial 30 finished with value: 18.154322751519814 and parameters: {'a': 8.99230229682357, 'b': 9.162020454696242}. Best is trial 25 with value: 19.576120780500716.\n",
      "[I 2024-01-12 19:39:40,971] Trial 31 finished with value: 17.971037706141125 and parameters: {'a': 8.756516694819316, 'b': 9.214521011321807}. Best is trial 25 with value: 19.576120780500716.\n",
      "[I 2024-01-12 19:39:40,977] Trial 32 finished with value: 18.015446166694144 and parameters: {'a': 8.126543164205843, 'b': 9.8889030024883}. Best is trial 25 with value: 19.576120780500716.\n",
      "[I 2024-01-12 19:39:40,983] Trial 33 finished with value: 18.169339464550085 and parameters: {'a': 9.038292542426362, 'b': 9.131046922123721}. Best is trial 25 with value: 19.576120780500716.\n",
      "[I 2024-01-12 19:39:40,990] Trial 34 finished with value: 18.1334735914781 and parameters: {'a': 9.156460812935222, 'b': 8.977012778542878}. Best is trial 25 with value: 19.576120780500716.\n",
      "[I 2024-01-12 19:39:40,997] Trial 35 finished with value: 18.437251701182873 and parameters: {'a': 9.045235342320815, 'b': 9.392016358862058}. Best is trial 25 with value: 19.576120780500716.\n",
      "[I 2024-01-12 19:39:41,003] Trial 36 finished with value: 9.506455025589217 and parameters: {'a': 1.1311588615914232, 'b': 8.375296163997794}. Best is trial 25 with value: 19.576120780500716.\n",
      "[I 2024-01-12 19:39:41,009] Trial 37 finished with value: 13.950713523637624 and parameters: {'a': 4.506138216198737, 'b': 9.444575307438887}. Best is trial 25 with value: 19.576120780500716.\n",
      "[I 2024-01-12 19:39:41,015] Trial 38 finished with value: 15.500754847316905 and parameters: {'a': 7.0146491283219765, 'b': 8.48610571899493}. Best is trial 25 with value: 19.576120780500716.\n",
      "[I 2024-01-12 19:39:41,021] Trial 39 finished with value: 12.793498656953425 and parameters: {'a': 3.4246295166327507, 'b': 9.368869140320674}. Best is trial 25 with value: 19.576120780500716.\n",
      "[I 2024-01-12 19:39:41,027] Trial 40 finished with value: 12.51989822941202 and parameters: {'a': 8.516329835728806, 'b': 4.003568393683214}. Best is trial 25 with value: 19.576120780500716.\n",
      "[I 2024-01-12 19:39:41,035] Trial 41 finished with value: 18.074545573997447 and parameters: {'a': 9.157939199545517, 'b': 8.91660637445193}. Best is trial 25 with value: 19.576120780500716.\n",
      "[I 2024-01-12 19:39:41,041] Trial 42 finished with value: 18.706416897607433 and parameters: {'a': 9.227929974744834, 'b': 9.4784869228626}. Best is trial 25 with value: 19.576120780500716.\n",
      "[I 2024-01-12 19:39:41,047] Trial 43 finished with value: 17.04746362893561 and parameters: {'a': 7.537083074490107, 'b': 9.510380554445504}. Best is trial 25 with value: 19.576120780500716.\n",
      "[I 2024-01-12 19:39:41,053] Trial 44 finished with value: 18.023233094071298 and parameters: {'a': 9.413594000801565, 'b': 8.609639093269733}. Best is trial 25 with value: 19.576120780500716.\n",
      "[I 2024-01-12 19:39:41,060] Trial 45 finished with value: 18.119588240873348 and parameters: {'a': 9.995687832445496, 'b': 8.12390040842785}. Best is trial 25 with value: 19.576120780500716.\n",
      "[I 2024-01-12 19:39:41,066] Trial 46 finished with value: 17.77553830956502 and parameters: {'a': 8.206869673580915, 'b': 9.568668635984105}. Best is trial 25 with value: 19.576120780500716.\n",
      "[I 2024-01-12 19:39:41,072] Trial 47 finished with value: 17.561406146638813 and parameters: {'a': 8.69394664496992, 'b': 8.867459501668893}. Best is trial 25 with value: 19.576120780500716.\n",
      "[I 2024-01-12 19:39:41,078] Trial 48 finished with value: 10.556912644883624 and parameters: {'a': 9.345117029472465, 'b': 1.211795615411158}. Best is trial 25 with value: 19.576120780500716.\n",
      "[I 2024-01-12 19:39:41,084] Trial 49 finished with value: 16.461896043234685 and parameters: {'a': 6.498695478215218, 'b': 9.963200565019466}. Best is trial 25 with value: 19.576120780500716.\n",
      "[I 2024-01-12 19:39:41,090] Trial 50 finished with value: 14.47608279964545 and parameters: {'a': 5.405370630385289, 'b': 9.070712169260162}. Best is trial 25 with value: 19.576120780500716.\n",
      "[I 2024-01-12 19:39:41,096] Trial 51 finished with value: 18.32395631348639 and parameters: {'a': 9.01349487961996, 'b': 9.31046143386643}. Best is trial 25 with value: 19.576120780500716.\n",
      "[I 2024-01-12 19:39:41,102] Trial 52 finished with value: 18.973855511842814 and parameters: {'a': 9.55550994460068, 'b': 9.418345567242135}. Best is trial 25 with value: 19.576120780500716.\n",
      "[I 2024-01-12 19:39:41,107] Trial 53 finished with value: 18.988565960532164 and parameters: {'a': 9.460116937693108, 'b': 9.528449022839055}. Best is trial 25 with value: 19.576120780500716.\n",
      "[I 2024-01-12 19:39:41,113] Trial 54 finished with value: 18.186474254291454 and parameters: {'a': 9.491156200130034, 'b': 8.695318054161419}. Best is trial 25 with value: 19.576120780500716.\n",
      "[I 2024-01-12 19:39:41,119] Trial 55 finished with value: 17.729543033023837 and parameters: {'a': 9.631235866819834, 'b': 8.098307166204002}. Best is trial 25 with value: 19.576120780500716.\n",
      "[I 2024-01-12 19:39:41,125] Trial 56 finished with value: 17.986415335313332 and parameters: {'a': 8.37950628553139, 'b': 9.606909049781944}. Best is trial 25 with value: 19.576120780500716.\n",
      "[I 2024-01-12 19:39:41,132] Trial 57 finished with value: 17.874932135365952 and parameters: {'a': 9.3831172043487, 'b': 8.491814931017252}. Best is trial 25 with value: 19.576120780500716.\n",
      "[I 2024-01-12 19:39:41,138] Trial 58 finished with value: 19.397404010733148 and parameters: {'a': 9.769345287344825, 'b': 9.628058723388321}. Best is trial 25 with value: 19.576120780500716.\n",
      "[I 2024-01-12 19:39:41,144] Trial 59 finished with value: 12.472655615989828 and parameters: {'a': 9.651951951646105, 'b': 2.820703664343723}. Best is trial 25 with value: 19.576120780500716.\n",
      "[I 2024-01-12 19:39:41,150] Trial 60 finished with value: 19.503884438442057 and parameters: {'a': 9.818317782689048, 'b': 9.685566655753009}. Best is trial 25 with value: 19.576120780500716.\n",
      "[I 2024-01-12 19:39:41,156] Trial 61 finished with value: 19.556458320831346 and parameters: {'a': 9.853092158009334, 'b': 9.703366162822014}. Best is trial 25 with value: 19.576120780500716.\n",
      "[I 2024-01-12 19:39:41,163] Trial 62 finished with value: 19.60611409622515 and parameters: {'a': 9.90438308561786, 'b': 9.701731010607286}. Best is trial 62 with value: 19.60611409622515.\n",
      "[I 2024-01-12 19:39:41,169] Trial 63 finished with value: 19.554859348144916 and parameters: {'a': 9.797794962003248, 'b': 9.75706438614167}. Best is trial 62 with value: 19.60611409622515.\n",
      "[I 2024-01-12 19:39:41,175] Trial 64 finished with value: 19.667110225928067 and parameters: {'a': 9.953673028323632, 'b': 9.713437197604435}. Best is trial 64 with value: 19.667110225928067.\n",
      "[I 2024-01-12 19:39:41,180] Trial 65 finished with value: 19.746623277377246 and parameters: {'a': 9.99583958224018, 'b': 9.750783695137068}. Best is trial 65 with value: 19.746623277377246.\n",
      "[I 2024-01-12 19:39:41,186] Trial 66 finished with value: 15.524668400460882 and parameters: {'a': 9.977270943331328, 'b': 5.547397457129553}. Best is trial 65 with value: 19.746623277377246.\n",
      "[I 2024-01-12 19:39:41,191] Trial 67 finished with value: 19.581352639136814 and parameters: {'a': 9.818668787399774, 'b': 9.76268385173704}. Best is trial 65 with value: 19.746623277377246.\n",
      "[I 2024-01-12 19:39:41,198] Trial 68 finished with value: 18.836411486336885 and parameters: {'a': 9.920707228948558, 'b': 8.915704257388327}. Best is trial 65 with value: 19.746623277377246.\n",
      "[I 2024-01-12 19:39:41,204] Trial 69 finished with value: 19.854003655261373 and parameters: {'a': 9.992905610619383, 'b': 9.861098044641988}. Best is trial 69 with value: 19.854003655261373.\n",
      "[I 2024-01-12 19:39:41,210] Trial 70 finished with value: 15.667966010019411 and parameters: {'a': 8.632608588624775, 'b': 7.035357421394636}. Best is trial 69 with value: 19.854003655261373.\n",
      "[I 2024-01-12 19:39:41,215] Trial 71 finished with value: 19.49270017371449 and parameters: {'a': 9.680378653759899, 'b': 9.812321519954592}. Best is trial 69 with value: 19.854003655261373.\n",
      "[I 2024-01-12 19:39:41,221] Trial 72 finished with value: 19.914732869194296 and parameters: {'a': 9.921077350273556, 'b': 9.993655518920738}. Best is trial 72 with value: 19.914732869194296.\n",
      "[I 2024-01-12 19:39:41,227] Trial 73 finished with value: 19.272697496095766 and parameters: {'a': 9.305479641991685, 'b': 9.967217854104081}. Best is trial 72 with value: 19.914732869194296.\n",
      "[I 2024-01-12 19:39:41,233] Trial 74 finished with value: 19.093837330362682 and parameters: {'a': 9.977083448374671, 'b': 9.116753881988009}. Best is trial 72 with value: 19.914732869194296.\n",
      "[I 2024-01-12 19:39:41,239] Trial 75 finished with value: 18.84220720764801 and parameters: {'a': 9.642613666484046, 'b': 9.199593541163962}. Best is trial 72 with value: 19.914732869194296.\n",
      "[I 2024-01-12 19:39:41,245] Trial 76 finished with value: 17.973319110441427 and parameters: {'a': 9.182156089008984, 'b': 8.791163021432443}. Best is trial 72 with value: 19.914732869194296.\n",
      "[I 2024-01-12 19:39:41,251] Trial 77 finished with value: 16.585156980937516 and parameters: {'a': 8.787705954490141, 'b': 7.7974510264473755}. Best is trial 72 with value: 19.914732869194296.\n",
      "[I 2024-01-12 19:39:41,256] Trial 78 finished with value: 19.954736026363612 and parameters: {'a': 9.961740174917095, 'b': 9.992995851446517}. Best is trial 78 with value: 19.954736026363612.\n",
      "[I 2024-01-12 19:39:41,263] Trial 79 finished with value: 12.875117613113055 and parameters: {'a': 2.876259092310522, 'b': 9.998858520802534}. Best is trial 78 with value: 19.954736026363612.\n",
      "[I 2024-01-12 19:39:41,269] Trial 80 finished with value: 13.80530845157083 and parameters: {'a': 4.6218260018438855, 'b': 9.183482449726945}. Best is trial 78 with value: 19.954736026363612.\n",
      "[I 2024-01-12 19:39:41,275] Trial 81 finished with value: 19.31231233444926 and parameters: {'a': 9.567321790015031, 'b': 9.744990544434227}. Best is trial 78 with value: 19.954736026363612.\n",
      "[I 2024-01-12 19:39:41,281] Trial 82 finished with value: 19.122624625299544 and parameters: {'a': 9.787704045705297, 'b': 9.334920579594245}. Best is trial 78 with value: 19.954736026363612.\n",
      "[I 2024-01-12 19:39:41,287] Trial 83 finished with value: 18.991083961275862 and parameters: {'a': 9.227131761303784, 'b': 9.76395219997208}. Best is trial 78 with value: 19.954736026363612.\n",
      "[I 2024-01-12 19:39:41,295] Trial 84 finished with value: 19.54906492251409 and parameters: {'a': 9.99301699715116, 'b': 9.556047925362932}. Best is trial 78 with value: 19.954736026363612.\n",
      "[I 2024-01-12 19:39:41,301] Trial 85 finished with value: 18.85677281963107 and parameters: {'a': 8.868726247703984, 'b': 9.988046571927088}. Best is trial 78 with value: 19.954736026363612.\n",
      "[I 2024-01-12 19:39:41,307] Trial 86 finished with value: 13.216040770667853 and parameters: {'a': 9.43113672628286, 'b': 3.7849040443849935}. Best is trial 78 with value: 19.954736026363612.\n",
      "[I 2024-01-12 19:39:41,313] Trial 87 finished with value: 14.316720553561092 and parameters: {'a': 5.980853430235534, 'b': 8.335867123325558}. Best is trial 78 with value: 19.954736026363612.\n",
      "[I 2024-01-12 19:39:41,319] Trial 88 finished with value: 18.80487074288153 and parameters: {'a': 9.770751357308868, 'b': 9.034119385572662}. Best is trial 78 with value: 19.954736026363612.\n",
      "[I 2024-01-12 19:39:41,324] Trial 89 finished with value: 18.664384289836754 and parameters: {'a': 9.996632493158474, 'b': 8.667751796678282}. Best is trial 78 with value: 19.954736026363612.\n",
      "[I 2024-01-12 19:39:41,331] Trial 90 finished with value: 18.545437700995652 and parameters: {'a': 9.266222333140076, 'b': 9.279215367855576}. Best is trial 78 with value: 19.954736026363612.\n",
      "[I 2024-01-12 19:39:41,337] Trial 91 finished with value: 19.462860625797955 and parameters: {'a': 9.73010689121918, 'b': 9.732753734578775}. Best is trial 78 with value: 19.954736026363612.\n",
      "[I 2024-01-12 19:39:41,343] Trial 92 finished with value: 19.25479703418638 and parameters: {'a': 9.55946354077885, 'b': 9.69533349340753}. Best is trial 78 with value: 19.954736026363612.\n",
      "[I 2024-01-12 19:39:41,349] Trial 93 finished with value: 18.556169449509554 and parameters: {'a': 9.062595806637447, 'b': 9.493573642872105}. Best is trial 78 with value: 19.954736026363612.\n",
      "[I 2024-01-12 19:39:41,355] Trial 94 finished with value: 19.546900563414 and parameters: {'a': 9.771389022711329, 'b': 9.775511540702668}. Best is trial 78 with value: 19.954736026363612.\n",
      "[I 2024-01-12 19:39:41,362] Trial 95 finished with value: 18.901612736485593 and parameters: {'a': 9.500043849633736, 'b': 9.401568886851857}. Best is trial 78 with value: 19.954736026363612.\n",
      "[I 2024-01-12 19:39:41,368] Trial 96 finished with value: 18.321210604927636 and parameters: {'a': 9.338510393477797, 'b': 8.98270021144984}. Best is trial 78 with value: 19.954736026363612.\n",
      "[I 2024-01-12 19:39:41,374] Trial 97 finished with value: 19.029396397652604 and parameters: {'a': 9.769441366665168, 'b': 9.259955030987438}. Best is trial 78 with value: 19.954736026363612.\n",
      "[I 2024-01-12 19:39:41,380] Trial 98 finished with value: 18.75693175341512 and parameters: {'a': 8.897554627304398, 'b': 9.859377126110722}. Best is trial 78 with value: 19.954736026363612.\n",
      "[I 2024-01-12 19:39:41,385] Trial 99 finished with value: 19.366165335394875 and parameters: {'a': 9.855486112717292, 'b': 9.510679222677584}. Best is trial 78 with value: 19.954736026363612.\n"
     ]
    }
   ],
   "source": [
    "def objective(trial):\n",
    "    \n",
    "    a = trial.suggest_float('a', 1, 10)\n",
    "    b = trial.suggest_float('b', 1, 10)\n",
    "    \n",
    "    return a+b\n",
    "\n",
    "storage = optuna.storages.InMemoryStorage()\n",
    "study = optuna.create_study(study_name=\"simple addition\", direction='maximize', storage=storage)\n",
    "\n",
    "study.optimize(objective, n_trials=100)"
   ]
  },
  {
   "cell_type": "code",
   "execution_count": 13,
   "id": "e08caebf-5d00-4e61-92b5-64f87e18f562",
   "metadata": {},
   "outputs": [
    {
     "name": "stderr",
     "output_type": "stream",
     "text": [
      "Bottle v0.12.25 server starting up (using WSGIRefServer())...\n",
      "Listening on http://localhost:8080/\n",
      "Hit Ctrl-C to quit.\n",
      "\n"
     ]
    }
   ],
   "source": [
    "run_server(storage)"
   ]
  },
  {
   "cell_type": "code",
   "execution_count": 20,
   "id": "dd0c1167-7a29-4c99-9ab5-90ed42d16df7",
   "metadata": {},
   "outputs": [
    {
     "data": {
      "application/vnd.plotly.v1+json": {
       "config": {
        "plotlyServerURL": "https://plot.ly"
       },
       "data": [
        {
         "mode": "markers",
         "name": "Objective Value",
         "type": "scatter",
         "x": [
          0,
          1,
          2,
          3,
          4,
          5,
          6,
          7,
          8,
          9,
          10,
          11,
          12,
          13,
          14,
          15,
          16,
          17,
          18,
          19,
          20,
          21,
          22,
          23,
          24,
          25,
          26,
          27,
          28,
          29,
          30,
          31,
          32,
          33,
          34,
          35,
          36,
          37,
          38,
          39,
          40,
          41,
          42,
          43,
          44,
          45,
          46,
          47,
          48,
          49,
          50,
          51,
          52,
          53,
          54,
          55,
          56,
          57,
          58,
          59,
          60,
          61,
          62,
          63,
          64,
          65,
          66,
          67,
          68,
          69,
          70,
          71,
          72,
          73,
          74,
          75,
          76,
          77,
          78,
          79,
          80,
          81,
          82,
          83,
          84,
          85,
          86,
          87,
          88,
          89,
          90,
          91,
          92,
          93,
          94,
          95,
          96,
          97,
          98,
          99
         ],
         "y": [
          12.839502453410002,
          7.340658132260577,
          11.095933685558677,
          8.648205405059793,
          17.014403595390462,
          10.059518775482772,
          6.9875499403112995,
          4.459581985476909,
          9.609050217270132,
          9.210873034172883,
          17.164456223976835,
          17.436539742622834,
          17.248053661649948,
          16.86665122015421,
          12.672259071156432,
          13.30715980099564,
          17.371155662639,
          15.160420620907338,
          14.086616958471993,
          14.37991755169133,
          16.099975983487127,
          16.287578727659145,
          15.76707331789287,
          15.52965444897728,
          15.61395672340232,
          19.576120780500716,
          18.891951299504946,
          17.610853523055656,
          16.315018344859027,
          17.976057524743787,
          18.154322751519814,
          17.971037706141125,
          18.015446166694144,
          18.169339464550085,
          18.1334735914781,
          18.437251701182873,
          9.506455025589217,
          13.950713523637624,
          15.500754847316905,
          12.793498656953425,
          12.51989822941202,
          18.074545573997447,
          18.706416897607433,
          17.04746362893561,
          18.023233094071298,
          18.119588240873348,
          17.77553830956502,
          17.561406146638813,
          10.556912644883624,
          16.461896043234685,
          14.47608279964545,
          18.32395631348639,
          18.973855511842814,
          18.988565960532164,
          18.186474254291454,
          17.729543033023837,
          17.986415335313332,
          17.874932135365952,
          19.397404010733148,
          12.472655615989828,
          19.503884438442057,
          19.556458320831346,
          19.60611409622515,
          19.554859348144916,
          19.667110225928067,
          19.746623277377246,
          15.524668400460882,
          19.581352639136814,
          18.836411486336885,
          19.854003655261373,
          15.667966010019411,
          19.49270017371449,
          19.914732869194296,
          19.272697496095766,
          19.093837330362682,
          18.84220720764801,
          17.973319110441427,
          16.585156980937516,
          19.954736026363612,
          12.875117613113055,
          13.80530845157083,
          19.31231233444926,
          19.122624625299544,
          18.991083961275862,
          19.54906492251409,
          18.85677281963107,
          13.216040770667853,
          14.316720553561092,
          18.80487074288153,
          18.664384289836754,
          18.545437700995652,
          19.462860625797955,
          19.25479703418638,
          18.556169449509554,
          19.546900563414,
          18.901612736485593,
          18.321210604927636,
          19.029396397652604,
          18.75693175341512,
          19.366165335394875
         ]
        },
        {
         "mode": "lines",
         "name": "Best Value",
         "type": "scatter",
         "x": [
          0,
          1,
          2,
          3,
          4,
          5,
          6,
          7,
          8,
          9,
          10,
          11,
          12,
          13,
          14,
          15,
          16,
          17,
          18,
          19,
          20,
          21,
          22,
          23,
          24,
          25,
          26,
          27,
          28,
          29,
          30,
          31,
          32,
          33,
          34,
          35,
          36,
          37,
          38,
          39,
          40,
          41,
          42,
          43,
          44,
          45,
          46,
          47,
          48,
          49,
          50,
          51,
          52,
          53,
          54,
          55,
          56,
          57,
          58,
          59,
          60,
          61,
          62,
          63,
          64,
          65,
          66,
          67,
          68,
          69,
          70,
          71,
          72,
          73,
          74,
          75,
          76,
          77,
          78,
          79,
          80,
          81,
          82,
          83,
          84,
          85,
          86,
          87,
          88,
          89,
          90,
          91,
          92,
          93,
          94,
          95,
          96,
          97,
          98,
          99
         ],
         "y": [
          12.839502453410002,
          12.839502453410002,
          12.839502453410002,
          12.839502453410002,
          17.014403595390462,
          17.014403595390462,
          17.014403595390462,
          17.014403595390462,
          17.014403595390462,
          17.014403595390462,
          17.164456223976835,
          17.436539742622834,
          17.436539742622834,
          17.436539742622834,
          17.436539742622834,
          17.436539742622834,
          17.436539742622834,
          17.436539742622834,
          17.436539742622834,
          17.436539742622834,
          17.436539742622834,
          17.436539742622834,
          17.436539742622834,
          17.436539742622834,
          17.436539742622834,
          19.576120780500716,
          19.576120780500716,
          19.576120780500716,
          19.576120780500716,
          19.576120780500716,
          19.576120780500716,
          19.576120780500716,
          19.576120780500716,
          19.576120780500716,
          19.576120780500716,
          19.576120780500716,
          19.576120780500716,
          19.576120780500716,
          19.576120780500716,
          19.576120780500716,
          19.576120780500716,
          19.576120780500716,
          19.576120780500716,
          19.576120780500716,
          19.576120780500716,
          19.576120780500716,
          19.576120780500716,
          19.576120780500716,
          19.576120780500716,
          19.576120780500716,
          19.576120780500716,
          19.576120780500716,
          19.576120780500716,
          19.576120780500716,
          19.576120780500716,
          19.576120780500716,
          19.576120780500716,
          19.576120780500716,
          19.576120780500716,
          19.576120780500716,
          19.576120780500716,
          19.576120780500716,
          19.60611409622515,
          19.60611409622515,
          19.667110225928067,
          19.746623277377246,
          19.746623277377246,
          19.746623277377246,
          19.746623277377246,
          19.854003655261373,
          19.854003655261373,
          19.854003655261373,
          19.914732869194296,
          19.914732869194296,
          19.914732869194296,
          19.914732869194296,
          19.914732869194296,
          19.914732869194296,
          19.954736026363612,
          19.954736026363612,
          19.954736026363612,
          19.954736026363612,
          19.954736026363612,
          19.954736026363612,
          19.954736026363612,
          19.954736026363612,
          19.954736026363612,
          19.954736026363612,
          19.954736026363612,
          19.954736026363612,
          19.954736026363612,
          19.954736026363612,
          19.954736026363612,
          19.954736026363612,
          19.954736026363612,
          19.954736026363612,
          19.954736026363612,
          19.954736026363612,
          19.954736026363612,
          19.954736026363612
         ]
        },
        {
         "marker": {
          "color": "#cccccc"
         },
         "mode": "markers",
         "name": "Infeasible Trial",
         "showlegend": false,
         "type": "scatter",
         "x": [],
         "y": []
        }
       ],
       "layout": {
        "autosize": true,
        "template": {
         "data": {
          "bar": [
           {
            "error_x": {
             "color": "#2a3f5f"
            },
            "error_y": {
             "color": "#2a3f5f"
            },
            "marker": {
             "line": {
              "color": "#E5ECF6",
              "width": 0.5
             },
             "pattern": {
              "fillmode": "overlay",
              "size": 10,
              "solidity": 0.2
             }
            },
            "type": "bar"
           }
          ],
          "barpolar": [
           {
            "marker": {
             "line": {
              "color": "#E5ECF6",
              "width": 0.5
             },
             "pattern": {
              "fillmode": "overlay",
              "size": 10,
              "solidity": 0.2
             }
            },
            "type": "barpolar"
           }
          ],
          "carpet": [
           {
            "aaxis": {
             "endlinecolor": "#2a3f5f",
             "gridcolor": "white",
             "linecolor": "white",
             "minorgridcolor": "white",
             "startlinecolor": "#2a3f5f"
            },
            "baxis": {
             "endlinecolor": "#2a3f5f",
             "gridcolor": "white",
             "linecolor": "white",
             "minorgridcolor": "white",
             "startlinecolor": "#2a3f5f"
            },
            "type": "carpet"
           }
          ],
          "choropleth": [
           {
            "colorbar": {
             "outlinewidth": 0,
             "ticks": ""
            },
            "type": "choropleth"
           }
          ],
          "contour": [
           {
            "colorbar": {
             "outlinewidth": 0,
             "ticks": ""
            },
            "colorscale": [
             [
              0,
              "#0d0887"
             ],
             [
              0.1111111111111111,
              "#46039f"
             ],
             [
              0.2222222222222222,
              "#7201a8"
             ],
             [
              0.3333333333333333,
              "#9c179e"
             ],
             [
              0.4444444444444444,
              "#bd3786"
             ],
             [
              0.5555555555555556,
              "#d8576b"
             ],
             [
              0.6666666666666666,
              "#ed7953"
             ],
             [
              0.7777777777777778,
              "#fb9f3a"
             ],
             [
              0.8888888888888888,
              "#fdca26"
             ],
             [
              1,
              "#f0f921"
             ]
            ],
            "type": "contour"
           }
          ],
          "contourcarpet": [
           {
            "colorbar": {
             "outlinewidth": 0,
             "ticks": ""
            },
            "type": "contourcarpet"
           }
          ],
          "heatmap": [
           {
            "colorbar": {
             "outlinewidth": 0,
             "ticks": ""
            },
            "colorscale": [
             [
              0,
              "#0d0887"
             ],
             [
              0.1111111111111111,
              "#46039f"
             ],
             [
              0.2222222222222222,
              "#7201a8"
             ],
             [
              0.3333333333333333,
              "#9c179e"
             ],
             [
              0.4444444444444444,
              "#bd3786"
             ],
             [
              0.5555555555555556,
              "#d8576b"
             ],
             [
              0.6666666666666666,
              "#ed7953"
             ],
             [
              0.7777777777777778,
              "#fb9f3a"
             ],
             [
              0.8888888888888888,
              "#fdca26"
             ],
             [
              1,
              "#f0f921"
             ]
            ],
            "type": "heatmap"
           }
          ],
          "heatmapgl": [
           {
            "colorbar": {
             "outlinewidth": 0,
             "ticks": ""
            },
            "colorscale": [
             [
              0,
              "#0d0887"
             ],
             [
              0.1111111111111111,
              "#46039f"
             ],
             [
              0.2222222222222222,
              "#7201a8"
             ],
             [
              0.3333333333333333,
              "#9c179e"
             ],
             [
              0.4444444444444444,
              "#bd3786"
             ],
             [
              0.5555555555555556,
              "#d8576b"
             ],
             [
              0.6666666666666666,
              "#ed7953"
             ],
             [
              0.7777777777777778,
              "#fb9f3a"
             ],
             [
              0.8888888888888888,
              "#fdca26"
             ],
             [
              1,
              "#f0f921"
             ]
            ],
            "type": "heatmapgl"
           }
          ],
          "histogram": [
           {
            "marker": {
             "pattern": {
              "fillmode": "overlay",
              "size": 10,
              "solidity": 0.2
             }
            },
            "type": "histogram"
           }
          ],
          "histogram2d": [
           {
            "colorbar": {
             "outlinewidth": 0,
             "ticks": ""
            },
            "colorscale": [
             [
              0,
              "#0d0887"
             ],
             [
              0.1111111111111111,
              "#46039f"
             ],
             [
              0.2222222222222222,
              "#7201a8"
             ],
             [
              0.3333333333333333,
              "#9c179e"
             ],
             [
              0.4444444444444444,
              "#bd3786"
             ],
             [
              0.5555555555555556,
              "#d8576b"
             ],
             [
              0.6666666666666666,
              "#ed7953"
             ],
             [
              0.7777777777777778,
              "#fb9f3a"
             ],
             [
              0.8888888888888888,
              "#fdca26"
             ],
             [
              1,
              "#f0f921"
             ]
            ],
            "type": "histogram2d"
           }
          ],
          "histogram2dcontour": [
           {
            "colorbar": {
             "outlinewidth": 0,
             "ticks": ""
            },
            "colorscale": [
             [
              0,
              "#0d0887"
             ],
             [
              0.1111111111111111,
              "#46039f"
             ],
             [
              0.2222222222222222,
              "#7201a8"
             ],
             [
              0.3333333333333333,
              "#9c179e"
             ],
             [
              0.4444444444444444,
              "#bd3786"
             ],
             [
              0.5555555555555556,
              "#d8576b"
             ],
             [
              0.6666666666666666,
              "#ed7953"
             ],
             [
              0.7777777777777778,
              "#fb9f3a"
             ],
             [
              0.8888888888888888,
              "#fdca26"
             ],
             [
              1,
              "#f0f921"
             ]
            ],
            "type": "histogram2dcontour"
           }
          ],
          "mesh3d": [
           {
            "colorbar": {
             "outlinewidth": 0,
             "ticks": ""
            },
            "type": "mesh3d"
           }
          ],
          "parcoords": [
           {
            "line": {
             "colorbar": {
              "outlinewidth": 0,
              "ticks": ""
             }
            },
            "type": "parcoords"
           }
          ],
          "pie": [
           {
            "automargin": true,
            "type": "pie"
           }
          ],
          "scatter": [
           {
            "fillpattern": {
             "fillmode": "overlay",
             "size": 10,
             "solidity": 0.2
            },
            "type": "scatter"
           }
          ],
          "scatter3d": [
           {
            "line": {
             "colorbar": {
              "outlinewidth": 0,
              "ticks": ""
             }
            },
            "marker": {
             "colorbar": {
              "outlinewidth": 0,
              "ticks": ""
             }
            },
            "type": "scatter3d"
           }
          ],
          "scattercarpet": [
           {
            "marker": {
             "colorbar": {
              "outlinewidth": 0,
              "ticks": ""
             }
            },
            "type": "scattercarpet"
           }
          ],
          "scattergeo": [
           {
            "marker": {
             "colorbar": {
              "outlinewidth": 0,
              "ticks": ""
             }
            },
            "type": "scattergeo"
           }
          ],
          "scattergl": [
           {
            "marker": {
             "colorbar": {
              "outlinewidth": 0,
              "ticks": ""
             }
            },
            "type": "scattergl"
           }
          ],
          "scattermapbox": [
           {
            "marker": {
             "colorbar": {
              "outlinewidth": 0,
              "ticks": ""
             }
            },
            "type": "scattermapbox"
           }
          ],
          "scatterpolar": [
           {
            "marker": {
             "colorbar": {
              "outlinewidth": 0,
              "ticks": ""
             }
            },
            "type": "scatterpolar"
           }
          ],
          "scatterpolargl": [
           {
            "marker": {
             "colorbar": {
              "outlinewidth": 0,
              "ticks": ""
             }
            },
            "type": "scatterpolargl"
           }
          ],
          "scatterternary": [
           {
            "marker": {
             "colorbar": {
              "outlinewidth": 0,
              "ticks": ""
             }
            },
            "type": "scatterternary"
           }
          ],
          "surface": [
           {
            "colorbar": {
             "outlinewidth": 0,
             "ticks": ""
            },
            "colorscale": [
             [
              0,
              "#0d0887"
             ],
             [
              0.1111111111111111,
              "#46039f"
             ],
             [
              0.2222222222222222,
              "#7201a8"
             ],
             [
              0.3333333333333333,
              "#9c179e"
             ],
             [
              0.4444444444444444,
              "#bd3786"
             ],
             [
              0.5555555555555556,
              "#d8576b"
             ],
             [
              0.6666666666666666,
              "#ed7953"
             ],
             [
              0.7777777777777778,
              "#fb9f3a"
             ],
             [
              0.8888888888888888,
              "#fdca26"
             ],
             [
              1,
              "#f0f921"
             ]
            ],
            "type": "surface"
           }
          ],
          "table": [
           {
            "cells": {
             "fill": {
              "color": "#EBF0F8"
             },
             "line": {
              "color": "white"
             }
            },
            "header": {
             "fill": {
              "color": "#C8D4E3"
             },
             "line": {
              "color": "white"
             }
            },
            "type": "table"
           }
          ]
         },
         "layout": {
          "annotationdefaults": {
           "arrowcolor": "#2a3f5f",
           "arrowhead": 0,
           "arrowwidth": 1
          },
          "autotypenumbers": "strict",
          "coloraxis": {
           "colorbar": {
            "outlinewidth": 0,
            "ticks": ""
           }
          },
          "colorscale": {
           "diverging": [
            [
             0,
             "#8e0152"
            ],
            [
             0.1,
             "#c51b7d"
            ],
            [
             0.2,
             "#de77ae"
            ],
            [
             0.3,
             "#f1b6da"
            ],
            [
             0.4,
             "#fde0ef"
            ],
            [
             0.5,
             "#f7f7f7"
            ],
            [
             0.6,
             "#e6f5d0"
            ],
            [
             0.7,
             "#b8e186"
            ],
            [
             0.8,
             "#7fbc41"
            ],
            [
             0.9,
             "#4d9221"
            ],
            [
             1,
             "#276419"
            ]
           ],
           "sequential": [
            [
             0,
             "#0d0887"
            ],
            [
             0.1111111111111111,
             "#46039f"
            ],
            [
             0.2222222222222222,
             "#7201a8"
            ],
            [
             0.3333333333333333,
             "#9c179e"
            ],
            [
             0.4444444444444444,
             "#bd3786"
            ],
            [
             0.5555555555555556,
             "#d8576b"
            ],
            [
             0.6666666666666666,
             "#ed7953"
            ],
            [
             0.7777777777777778,
             "#fb9f3a"
            ],
            [
             0.8888888888888888,
             "#fdca26"
            ],
            [
             1,
             "#f0f921"
            ]
           ],
           "sequentialminus": [
            [
             0,
             "#0d0887"
            ],
            [
             0.1111111111111111,
             "#46039f"
            ],
            [
             0.2222222222222222,
             "#7201a8"
            ],
            [
             0.3333333333333333,
             "#9c179e"
            ],
            [
             0.4444444444444444,
             "#bd3786"
            ],
            [
             0.5555555555555556,
             "#d8576b"
            ],
            [
             0.6666666666666666,
             "#ed7953"
            ],
            [
             0.7777777777777778,
             "#fb9f3a"
            ],
            [
             0.8888888888888888,
             "#fdca26"
            ],
            [
             1,
             "#f0f921"
            ]
           ]
          },
          "colorway": [
           "#636efa",
           "#EF553B",
           "#00cc96",
           "#ab63fa",
           "#FFA15A",
           "#19d3f3",
           "#FF6692",
           "#B6E880",
           "#FF97FF",
           "#FECB52"
          ],
          "font": {
           "color": "#2a3f5f"
          },
          "geo": {
           "bgcolor": "white",
           "lakecolor": "white",
           "landcolor": "#E5ECF6",
           "showlakes": true,
           "showland": true,
           "subunitcolor": "white"
          },
          "hoverlabel": {
           "align": "left"
          },
          "hovermode": "closest",
          "mapbox": {
           "style": "light"
          },
          "paper_bgcolor": "white",
          "plot_bgcolor": "#E5ECF6",
          "polar": {
           "angularaxis": {
            "gridcolor": "white",
            "linecolor": "white",
            "ticks": ""
           },
           "bgcolor": "#E5ECF6",
           "radialaxis": {
            "gridcolor": "white",
            "linecolor": "white",
            "ticks": ""
           }
          },
          "scene": {
           "xaxis": {
            "backgroundcolor": "#E5ECF6",
            "gridcolor": "white",
            "gridwidth": 2,
            "linecolor": "white",
            "showbackground": true,
            "ticks": "",
            "zerolinecolor": "white"
           },
           "yaxis": {
            "backgroundcolor": "#E5ECF6",
            "gridcolor": "white",
            "gridwidth": 2,
            "linecolor": "white",
            "showbackground": true,
            "ticks": "",
            "zerolinecolor": "white"
           },
           "zaxis": {
            "backgroundcolor": "#E5ECF6",
            "gridcolor": "white",
            "gridwidth": 2,
            "linecolor": "white",
            "showbackground": true,
            "ticks": "",
            "zerolinecolor": "white"
           }
          },
          "shapedefaults": {
           "line": {
            "color": "#2a3f5f"
           }
          },
          "ternary": {
           "aaxis": {
            "gridcolor": "white",
            "linecolor": "white",
            "ticks": ""
           },
           "baxis": {
            "gridcolor": "white",
            "linecolor": "white",
            "ticks": ""
           },
           "bgcolor": "#E5ECF6",
           "caxis": {
            "gridcolor": "white",
            "linecolor": "white",
            "ticks": ""
           }
          },
          "title": {
           "x": 0.05
          },
          "xaxis": {
           "automargin": true,
           "gridcolor": "white",
           "linecolor": "white",
           "ticks": "",
           "title": {
            "standoff": 15
           },
           "zerolinecolor": "white",
           "zerolinewidth": 2
          },
          "yaxis": {
           "automargin": true,
           "gridcolor": "white",
           "linecolor": "white",
           "ticks": "",
           "title": {
            "standoff": 15
           },
           "zerolinecolor": "white",
           "zerolinewidth": 2
          }
         }
        },
        "title": {
         "text": "Optimization History Plot"
        },
        "xaxis": {
         "autorange": true,
         "range": [
          -6.085604770017035,
          105.08560477001703
         ],
         "title": {
          "text": "Trial"
         },
         "type": "linear"
        },
        "yaxis": {
         "autorange": true,
         "range": [
          3.1808556811318898,
          21.233462330708633
         ],
         "title": {
          "text": "Objective Value"
         },
         "type": "linear"
        }
       }
      },
      "image/png": "[encoded data removed]",
      "text/html": [
       "<div>                            <div id=\"bf3a6391-0a5a-48cf-9980-b7fca90865cb\" class=\"plotly-graph-div\" style=\"height:525px; width:100%;\"></div>            <script type=\"text/javascript\">                require([\"plotly\"], function(Plotly) {                    window.PLOTLYENV=window.PLOTLYENV || {};                                    if (document.getElementById(\"bf3a6391-0a5a-48cf-9980-b7fca90865cb\")) {                    Plotly.newPlot(                        \"bf3a6391-0a5a-48cf-9980-b7fca90865cb\",                        [{\"mode\":\"markers\",\"name\":\"Objective Value\",\"x\":[0,1,2,3,4,5,6,7,8,9,10,11,12,13,14,15,16,17,18,19,20,21,22,23,24,25,26,27,28,29,30,31,32,33,34,35,36,37,38,39,40,41,42,43,44,45,46,47,48,49,50,51,52,53,54,55,56,57,58,59,60,61,62,63,64,65,66,67,68,69,70,71,72,73,74,75,76,77,78,79,80,81,82,83,84,85,86,87,88,89,90,91,92,93,94,95,96,97,98,99],\"y\":[12.839502453410002,7.340658132260577,11.095933685558677,8.648205405059793,17.014403595390462,10.059518775482772,6.9875499403112995,4.459581985476909,9.609050217270132,9.210873034172883,17.164456223976835,17.436539742622834,17.248053661649948,16.86665122015421,12.672259071156432,13.30715980099564,17.371155662639,15.160420620907338,14.086616958471993,14.37991755169133,16.099975983487127,16.287578727659145,15.76707331789287,15.52965444897728,15.61395672340232,19.576120780500716,18.891951299504946,17.610853523055656,16.315018344859027,17.976057524743787,18.154322751519814,17.971037706141125,18.015446166694144,18.169339464550085,18.1334735914781,18.437251701182873,9.506455025589217,13.950713523637624,15.500754847316905,12.793498656953425,12.51989822941202,18.074545573997447,18.706416897607433,17.04746362893561,18.023233094071298,18.119588240873348,17.77553830956502,17.561406146638813,10.556912644883624,16.461896043234685,14.47608279964545,18.32395631348639,18.973855511842814,18.988565960532164,18.186474254291454,17.729543033023837,17.986415335313332,17.874932135365952,19.397404010733148,12.472655615989828,19.503884438442057,19.556458320831346,19.60611409622515,19.554859348144916,19.667110225928067,19.746623277377246,15.524668400460882,19.581352639136814,18.836411486336885,19.854003655261373,15.667966010019411,19.49270017371449,19.914732869194296,19.272697496095766,19.093837330362682,18.84220720764801,17.973319110441427,16.585156980937516,19.954736026363612,12.875117613113055,13.80530845157083,19.31231233444926,19.122624625299544,18.991083961275862,19.54906492251409,18.85677281963107,13.216040770667853,14.316720553561092,18.80487074288153,18.664384289836754,18.545437700995652,19.462860625797955,19.25479703418638,18.556169449509554,19.546900563414,18.901612736485593,18.321210604927636,19.029396397652604,18.75693175341512,19.366165335394875],\"type\":\"scatter\"},{\"mode\":\"lines\",\"name\":\"Best Value\",\"x\":[0,1,2,3,4,5,6,7,8,9,10,11,12,13,14,15,16,17,18,19,20,21,22,23,24,25,26,27,28,29,30,31,32,33,34,35,36,37,38,39,40,41,42,43,44,45,46,47,48,49,50,51,52,53,54,55,56,57,58,59,60,61,62,63,64,65,66,67,68,69,70,71,72,73,74,75,76,77,78,79,80,81,82,83,84,85,86,87,88,89,90,91,92,93,94,95,96,97,98,99],\"y\":[12.839502453410002,12.839502453410002,12.839502453410002,12.839502453410002,17.014403595390462,17.014403595390462,17.014403595390462,17.014403595390462,17.014403595390462,17.014403595390462,17.164456223976835,17.436539742622834,17.436539742622834,17.436539742622834,17.436539742622834,17.436539742622834,17.436539742622834,17.436539742622834,17.436539742622834,17.436539742622834,17.436539742622834,17.436539742622834,17.436539742622834,17.436539742622834,17.436539742622834,19.576120780500716,19.576120780500716,19.576120780500716,19.576120780500716,19.576120780500716,19.576120780500716,19.576120780500716,19.576120780500716,19.576120780500716,19.576120780500716,19.576120780500716,19.576120780500716,19.576120780500716,19.576120780500716,19.576120780500716,19.576120780500716,19.576120780500716,19.576120780500716,19.576120780500716,19.576120780500716,19.576120780500716,19.576120780500716,19.576120780500716,19.576120780500716,19.576120780500716,19.576120780500716,19.576120780500716,19.576120780500716,19.576120780500716,19.576120780500716,19.576120780500716,19.576120780500716,19.576120780500716,19.576120780500716,19.576120780500716,19.576120780500716,19.576120780500716,19.60611409622515,19.60611409622515,19.667110225928067,19.746623277377246,19.746623277377246,19.746623277377246,19.746623277377246,19.854003655261373,19.854003655261373,19.854003655261373,19.914732869194296,19.914732869194296,19.914732869194296,19.914732869194296,19.914732869194296,19.914732869194296,19.954736026363612,19.954736026363612,19.954736026363612,19.954736026363612,19.954736026363612,19.954736026363612,19.954736026363612,19.954736026363612,19.954736026363612,19.954736026363612,19.954736026363612,19.954736026363612,19.954736026363612,19.954736026363612,19.954736026363612,19.954736026363612,19.954736026363612,19.954736026363612,19.954736026363612,19.954736026363612,19.954736026363612,19.954736026363612],\"type\":\"scatter\"},{\"marker\":{\"color\":\"#cccccc\"},\"mode\":\"markers\",\"name\":\"Infeasible Trial\",\"showlegend\":false,\"x\":[],\"y\":[],\"type\":\"scatter\"}],                        {\"title\":{\"text\":\"Optimization History Plot\"},\"xaxis\":{\"title\":{\"text\":\"Trial\"}},\"yaxis\":{\"title\":{\"text\":\"Objective Value\"}},\"template\":{\"data\":{\"histogram2dcontour\":[{\"type\":\"histogram2dcontour\",\"colorbar\":{\"outlinewidth\":0,\"ticks\":\"\"},\"colorscale\":[[0.0,\"#0d0887\"],[0.1111111111111111,\"#46039f\"],[0.2222222222222222,\"#7201a8\"],[0.3333333333333333,\"#9c179e\"],[0.4444444444444444,\"#bd3786\"],[0.5555555555555556,\"#d8576b\"],[0.6666666666666666,\"#ed7953\"],[0.7777777777777778,\"#fb9f3a\"],[0.8888888888888888,\"#fdca26\"],[1.0,\"#f0f921\"]]}],\"choropleth\":[{\"type\":\"choropleth\",\"colorbar\":{\"outlinewidth\":0,\"ticks\":\"\"}}],\"histogram2d\":[{\"type\":\"histogram2d\",\"colorbar\":{\"outlinewidth\":0,\"ticks\":\"\"},\"colorscale\":[[0.0,\"#0d0887\"],[0.1111111111111111,\"#46039f\"],[0.2222222222222222,\"#7201a8\"],[0.3333333333333333,\"#9c179e\"],[0.4444444444444444,\"#bd3786\"],[0.5555555555555556,\"#d8576b\"],[0.6666666666666666,\"#ed7953\"],[0.7777777777777778,\"#fb9f3a\"],[0.8888888888888888,\"#fdca26\"],[1.0,\"#f0f921\"]]}],\"heatmap\":[{\"type\":\"heatmap\",\"colorbar\":{\"outlinewidth\":0,\"ticks\":\"\"},\"colorscale\":[[0.0,\"#0d0887\"],[0.1111111111111111,\"#46039f\"],[0.2222222222222222,\"#7201a8\"],[0.3333333333333333,\"#9c179e\"],[0.4444444444444444,\"#bd3786\"],[0.5555555555555556,\"#d8576b\"],[0.6666666666666666,\"#ed7953\"],[0.7777777777777778,\"#fb9f3a\"],[0.8888888888888888,\"#fdca26\"],[1.0,\"#f0f921\"]]}],\"heatmapgl\":[{\"type\":\"heatmapgl\",\"colorbar\":{\"outlinewidth\":0,\"ticks\":\"\"},\"colorscale\":[[0.0,\"#0d0887\"],[0.1111111111111111,\"#46039f\"],[0.2222222222222222,\"#7201a8\"],[0.3333333333333333,\"#9c179e\"],[0.4444444444444444,\"#bd3786\"],[0.5555555555555556,\"#d8576b\"],[0.6666666666666666,\"#ed7953\"],[0.7777777777777778,\"#fb9f3a\"],[0.8888888888888888,\"#fdca26\"],[1.0,\"#f0f921\"]]}],\"contourcarpet\":[{\"type\":\"contourcarpet\",\"colorbar\":{\"outlinewidth\":0,\"ticks\":\"\"}}],\"contour\":[{\"type\":\"contour\",\"colorbar\":{\"outlinewidth\":0,\"ticks\":\"\"},\"colorscale\":[[0.0,\"#0d0887\"],[0.1111111111111111,\"#46039f\"],[0.2222222222222222,\"#7201a8\"],[0.3333333333333333,\"#9c179e\"],[0.4444444444444444,\"#bd3786\"],[0.5555555555555556,\"#d8576b\"],[0.6666666666666666,\"#ed7953\"],[0.7777777777777778,\"#fb9f3a\"],[0.8888888888888888,\"#fdca26\"],[1.0,\"#f0f921\"]]}],\"surface\":[{\"type\":\"surface\",\"colorbar\":{\"outlinewidth\":0,\"ticks\":\"\"},\"colorscale\":[[0.0,\"#0d0887\"],[0.1111111111111111,\"#46039f\"],[0.2222222222222222,\"#7201a8\"],[0.3333333333333333,\"#9c179e\"],[0.4444444444444444,\"#bd3786\"],[0.5555555555555556,\"#d8576b\"],[0.6666666666666666,\"#ed7953\"],[0.7777777777777778,\"#fb9f3a\"],[0.8888888888888888,\"#fdca26\"],[1.0,\"#f0f921\"]]}],\"mesh3d\":[{\"type\":\"mesh3d\",\"colorbar\":{\"outlinewidth\":0,\"ticks\":\"\"}}],\"scatter\":[{\"fillpattern\":{\"fillmode\":\"overlay\",\"size\":10,\"solidity\":0.2},\"type\":\"scatter\"}],\"parcoords\":[{\"type\":\"parcoords\",\"line\":{\"colorbar\":{\"outlinewidth\":0,\"ticks\":\"\"}}}],\"scatterpolargl\":[{\"type\":\"scatterpolargl\",\"marker\":{\"colorbar\":{\"outlinewidth\":0,\"ticks\":\"\"}}}],\"bar\":[{\"error_x\":{\"color\":\"#2a3f5f\"},\"error_y\":{\"color\":\"#2a3f5f\"},\"marker\":{\"line\":{\"color\":\"#E5ECF6\",\"width\":0.5},\"pattern\":{\"fillmode\":\"overlay\",\"size\":10,\"solidity\":0.2}},\"type\":\"bar\"}],\"scattergeo\":[{\"type\":\"scattergeo\",\"marker\":{\"colorbar\":{\"outlinewidth\":0,\"ticks\":\"\"}}}],\"scatterpolar\":[{\"type\":\"scatterpolar\",\"marker\":{\"colorbar\":{\"outlinewidth\":0,\"ticks\":\"\"}}}],\"histogram\":[{\"marker\":{\"pattern\":{\"fillmode\":\"overlay\",\"size\":10,\"solidity\":0.2}},\"type\":\"histogram\"}],\"scattergl\":[{\"type\":\"scattergl\",\"marker\":{\"colorbar\":{\"outlinewidth\":0,\"ticks\":\"\"}}}],\"scatter3d\":[{\"type\":\"scatter3d\",\"line\":{\"colorbar\":{\"outlinewidth\":0,\"ticks\":\"\"}},\"marker\":{\"colorbar\":{\"outlinewidth\":0,\"ticks\":\"\"}}}],\"scattermapbox\":[{\"type\":\"scattermapbox\",\"marker\":{\"colorbar\":{\"outlinewidth\":0,\"ticks\":\"\"}}}],\"scatterternary\":[{\"type\":\"scatterternary\",\"marker\":{\"colorbar\":{\"outlinewidth\":0,\"ticks\":\"\"}}}],\"scattercarpet\":[{\"type\":\"scattercarpet\",\"marker\":{\"colorbar\":{\"outlinewidth\":0,\"ticks\":\"\"}}}],\"carpet\":[{\"aaxis\":{\"endlinecolor\":\"#2a3f5f\",\"gridcolor\":\"white\",\"linecolor\":\"white\",\"minorgridcolor\":\"white\",\"startlinecolor\":\"#2a3f5f\"},\"baxis\":{\"endlinecolor\":\"#2a3f5f\",\"gridcolor\":\"white\",\"linecolor\":\"white\",\"minorgridcolor\":\"white\",\"startlinecolor\":\"#2a3f5f\"},\"type\":\"carpet\"}],\"table\":[{\"cells\":{\"fill\":{\"color\":\"#EBF0F8\"},\"line\":{\"color\":\"white\"}},\"header\":{\"fill\":{\"color\":\"#C8D4E3\"},\"line\":{\"color\":\"white\"}},\"type\":\"table\"}],\"barpolar\":[{\"marker\":{\"line\":{\"color\":\"#E5ECF6\",\"width\":0.5},\"pattern\":{\"fillmode\":\"overlay\",\"size\":10,\"solidity\":0.2}},\"type\":\"barpolar\"}],\"pie\":[{\"automargin\":true,\"type\":\"pie\"}]},\"layout\":{\"autotypenumbers\":\"strict\",\"colorway\":[\"#636efa\",\"#EF553B\",\"#00cc96\",\"#ab63fa\",\"#FFA15A\",\"#19d3f3\",\"#FF6692\",\"#B6E880\",\"#FF97FF\",\"#FECB52\"],\"font\":{\"color\":\"#2a3f5f\"},\"hovermode\":\"closest\",\"hoverlabel\":{\"align\":\"left\"},\"paper_bgcolor\":\"white\",\"plot_bgcolor\":\"#E5ECF6\",\"polar\":{\"bgcolor\":\"#E5ECF6\",\"angularaxis\":{\"gridcolor\":\"white\",\"linecolor\":\"white\",\"ticks\":\"\"},\"radialaxis\":{\"gridcolor\":\"white\",\"linecolor\":\"white\",\"ticks\":\"\"}},\"ternary\":{\"bgcolor\":\"#E5ECF6\",\"aaxis\":{\"gridcolor\":\"white\",\"linecolor\":\"white\",\"ticks\":\"\"},\"baxis\":{\"gridcolor\":\"white\",\"linecolor\":\"white\",\"ticks\":\"\"},\"caxis\":{\"gridcolor\":\"white\",\"linecolor\":\"white\",\"ticks\":\"\"}},\"coloraxis\":{\"colorbar\":{\"outlinewidth\":0,\"ticks\":\"\"}},\"colorscale\":{\"sequential\":[[0.0,\"#0d0887\"],[0.1111111111111111,\"#46039f\"],[0.2222222222222222,\"#7201a8\"],[0.3333333333333333,\"#9c179e\"],[0.4444444444444444,\"#bd3786\"],[0.5555555555555556,\"#d8576b\"],[0.6666666666666666,\"#ed7953\"],[0.7777777777777778,\"#fb9f3a\"],[0.8888888888888888,\"#fdca26\"],[1.0,\"#f0f921\"]],\"sequentialminus\":[[0.0,\"#0d0887\"],[0.1111111111111111,\"#46039f\"],[0.2222222222222222,\"#7201a8\"],[0.3333333333333333,\"#9c179e\"],[0.4444444444444444,\"#bd3786\"],[0.5555555555555556,\"#d8576b\"],[0.6666666666666666,\"#ed7953\"],[0.7777777777777778,\"#fb9f3a\"],[0.8888888888888888,\"#fdca26\"],[1.0,\"#f0f921\"]],\"diverging\":[[0,\"#8e0152\"],[0.1,\"#c51b7d\"],[0.2,\"#de77ae\"],[0.3,\"#f1b6da\"],[0.4,\"#fde0ef\"],[0.5,\"#f7f7f7\"],[0.6,\"#e6f5d0\"],[0.7,\"#b8e186\"],[0.8,\"#7fbc41\"],[0.9,\"#4d9221\"],[1,\"#276419\"]]},\"xaxis\":{\"gridcolor\":\"white\",\"linecolor\":\"white\",\"ticks\":\"\",\"title\":{\"standoff\":15},\"zerolinecolor\":\"white\",\"automargin\":true,\"zerolinewidth\":2},\"yaxis\":{\"gridcolor\":\"white\",\"linecolor\":\"white\",\"ticks\":\"\",\"title\":{\"standoff\":15},\"zerolinecolor\":\"white\",\"automargin\":true,\"zerolinewidth\":2},\"scene\":{\"xaxis\":{\"backgroundcolor\":\"#E5ECF6\",\"gridcolor\":\"white\",\"linecolor\":\"white\",\"showbackground\":true,\"ticks\":\"\",\"zerolinecolor\":\"white\",\"gridwidth\":2},\"yaxis\":{\"backgroundcolor\":\"#E5ECF6\",\"gridcolor\":\"white\",\"linecolor\":\"white\",\"showbackground\":true,\"ticks\":\"\",\"zerolinecolor\":\"white\",\"gridwidth\":2},\"zaxis\":{\"backgroundcolor\":\"#E5ECF6\",\"gridcolor\":\"white\",\"linecolor\":\"white\",\"showbackground\":true,\"ticks\":\"\",\"zerolinecolor\":\"white\",\"gridwidth\":2}},\"shapedefaults\":{\"line\":{\"color\":\"#2a3f5f\"}},\"annotationdefaults\":{\"arrowcolor\":\"#2a3f5f\",\"arrowhead\":0,\"arrowwidth\":1},\"geo\":{\"bgcolor\":\"white\",\"landcolor\":\"#E5ECF6\",\"subunitcolor\":\"white\",\"showland\":true,\"showlakes\":true,\"lakecolor\":\"white\"},\"title\":{\"x\":0.05},\"mapbox\":{\"style\":\"light\"}}}},                        {\"responsive\": true}                    ).then(function(){\n",
       "                            \n",
       "var gd = document.getElementById('bf3a6391-0a5a-48cf-9980-b7fca90865cb');\n",
       "var x = new MutationObserver(function (mutations, observer) {{\n",
       "        var display = window.getComputedStyle(gd).display;\n",
       "        if (!display || display === 'none') {{\n",
       "            console.log([gd, 'removed!']);\n",
       "            Plotly.purge(gd);\n",
       "            observer.disconnect();\n",
       "        }}\n",
       "}});\n",
       "\n",
       "// Listen for the removal of the full notebook cells\n",
       "var notebookContainer = gd.closest('#notebook-container');\n",
       "if (notebookContainer) {{\n",
       "    x.observe(notebookContainer, {childList: true});\n",
       "}}\n",
       "\n",
       "// Listen for the clearing of the current output cell\n",
       "var outputEl = gd.closest('.output');\n",
       "if (outputEl) {{\n",
       "    x.observe(outputEl, {childList: true});\n",
       "}}\n",
       "\n",
       "                        })                };                });            </script>        </div>"
      ]
     },
     "metadata": {},
     "output_type": "display_data"
    }
   ],
   "source": [
    "plot_optimization_history(study)"
   ]
  },
  {
   "cell_type": "markdown",
   "id": "fcdc49d3-8133-4a34-95e3-97591a7f6947",
   "metadata": {},
   "source": [
    "### Plotting the graphs in the notebookstudy = optuna.create_study(\n",
    "    direction=\"maximize\",\n",
    "    sampler=optuna.samplers.TPESampler(seed=SEED),\n",
    "    pruner=optuna.pruners.MedianPruner(n_warmup_steps=10),\n",
    ")\n",
    "study.optimize(objective, n_trials=100, timeout=600)"
   ]
  },
  {
   "cell_type": "code",
   "execution_count": 45,
   "id": "8bf03203-db71-414e-b662-a1ca66874ca9",
   "metadata": {},
   "outputs": [],
   "source": [
    "import lightgbm as lgb\n",
    "import numpy as np\n",
    "import sklearn.datasets\n",
    "import sklearn.metrics\n",
    "from sklearn.model_selection import train_test_split\n",
    "\n",
    "import optuna\n",
    "\n",
    "# You can use Matplotlib instead of Plotly for visualization by simply replacing `optuna.visualization` with\n",
    "# `optuna.visualization.matplotlib` in the following examples.\n",
    "from optuna.visualization.matplotlib import plot_contour\n",
    "from optuna.visualization.matplotlib import plot_edf\n",
    "from optuna.visualization.matplotlib import plot_intermediate_values\n",
    "from optuna.visualization.matplotlib import plot_optimization_history\n",
    "from optuna.visualization.matplotlib import plot_parallel_coordinate\n",
    "from optuna.visualization.matplotlib import plot_param_importances\n",
    "from optuna.visualization.matplotlib import plot_rank\n",
    "from optuna.visualization.matplotlib import plot_slice\n",
    "from optuna.visualization.matplotlib import plot_timeline\n",
    "\n",
    "SEED = 42\n",
    "\n",
    "np.random.seed(SEED)"
   ]
  },
  {
   "cell_type": "code",
   "execution_count": 46,
   "id": "43ad69fb-eb78-4ad9-82c2-0462d92503da",
   "metadata": {},
   "outputs": [],
   "source": [
    "def objective(trial):\n",
    "    data, target = sklearn.datasets.load_breast_cancer(return_X_y=True)\n",
    "    train_x, valid_x, train_y, valid_y = train_test_split(data, target, test_size=0.25)\n",
    "    dtrain = lgb.Dataset(train_x, label=train_y)\n",
    "    dvalid = lgb.Dataset(valid_x, label=valid_y)\n",
    "\n",
    "    param = {\n",
    "        \"objective\": \"binary\",\n",
    "        \"metric\": \"auc\",\n",
    "        \"verbosity\": -1,\n",
    "        \"boosting_type\": \"gbdt\",\n",
    "        \"bagging_fraction\": trial.suggest_float(\"bagging_fraction\", 0.4, 1.0),\n",
    "        \"bagging_freq\": trial.suggest_int(\"bagging_freq\", 1, 7),\n",
    "        \"min_child_samples\": trial.suggest_int(\"min_child_samples\", 5, 100),\n",
    "    }\n",
    "\n",
    "    # Add a callback for pruning.\n",
    "    pruning_callback = optuna.integration.LightGBMPruningCallback(trial, \"auc\")\n",
    "    gbm = lgb.train(param, dtrain, valid_sets=[dvalid], callbacks=[pruning_callback])\n",
    "\n",
    "    preds = gbm.predict(valid_x)\n",
    "    pred_labels = np.rint(preds)\n",
    "    accuracy = sklearn.metrics.accuracy_score(valid_y, pred_labels)\n",
    "    return accuracy"
   ]
  },
  {
   "cell_type": "code",
   "execution_count": 47,
   "id": "36ee5b0c-5a27-499b-9a93-dd5e0a16bd64",
   "metadata": {},
   "outputs": [],
   "source": [
    "from optuna.visualization import plot_optimization_history"
   ]
  },
  {
   "cell_type": "code",
   "execution_count": 48,
   "id": "778ea1d8-75c7-4c7d-b31b-0cb4a9e3febe",
   "metadata": {},
   "outputs": [
    {
     "name": "stderr",
     "output_type": "stream",
     "text": [
      "[I 2024-01-12 19:58:31,895] A new study created in memory with name: no-name-00c3bbaf-6ea2-4da9-9825-434a02b1bde0\n",
      "[I 2024-01-12 19:58:31,978] Trial 0 finished with value: 0.972027972027972 and parameters: {'bagging_fraction': 0.6247240713084175, 'bagging_freq': 7, 'min_child_samples': 75}. Best is trial 0 with value: 0.972027972027972.\n",
      "[I 2024-01-12 19:58:32,314] Trial 1 finished with value: 0.972027972027972 and parameters: {'bagging_fraction': 0.759195090518222, 'bagging_freq': 2, 'min_child_samples': 19}. Best is trial 0 with value: 0.972027972027972.\n",
      "[I 2024-01-12 19:58:32,391] Trial 2 finished with value: 0.958041958041958 and parameters: {'bagging_fraction': 0.4348501673009197, 'bagging_freq': 7, 'min_child_samples': 62}. Best is trial 0 with value: 0.972027972027972.\n",
      "[I 2024-01-12 19:58:32,479] Trial 3 finished with value: 0.9790209790209791 and parameters: {'bagging_fraction': 0.8248435466776274, 'bagging_freq': 1, 'min_child_samples': 98}. Best is trial 3 with value: 0.9790209790209791.\n",
      "[I 2024-01-12 19:58:32,878] Trial 4 finished with value: 0.958041958041958 and parameters: {'bagging_fraction': 0.899465584480253, 'bagging_freq': 2, 'min_child_samples': 22}. Best is trial 3 with value: 0.9790209790209791.\n",
      "[I 2024-01-12 19:58:32,998] Trial 5 finished with value: 0.993006993006993 and parameters: {'bagging_fraction': 0.5100427059120604, 'bagging_freq': 3, 'min_child_samples': 55}. Best is trial 5 with value: 0.993006993006993.\n",
      "[I 2024-01-12 19:58:33,026] Trial 6 pruned. Trial was pruned at iteration 10.\n",
      "[I 2024-01-12 19:58:33,053] Trial 7 pruned. Trial was pruned at iteration 10.\n",
      "[I 2024-01-12 19:58:33,098] Trial 8 pruned. Trial was pruned at iteration 14.\n",
      "[I 2024-01-12 19:58:33,199] Trial 9 pruned. Trial was pruned at iteration 18.\n",
      "[I 2024-01-12 19:58:33,258] Trial 10 pruned. Trial was pruned at iteration 28.\n",
      "[I 2024-01-12 19:58:33,299] Trial 11 pruned. Trial was pruned at iteration 10.\n",
      "[I 2024-01-12 19:58:33,432] Trial 12 finished with value: 0.986013986013986 and parameters: {'bagging_fraction': 0.9733907188988407, 'bagging_freq': 1, 'min_child_samples': 98}. Best is trial 5 with value: 0.993006993006993.\n",
      "[I 2024-01-12 19:58:33,477] Trial 13 pruned. Trial was pruned at iteration 10.\n",
      "[I 2024-01-12 19:58:33,518] Trial 14 pruned. Trial was pruned at iteration 10.\n",
      "[I 2024-01-12 19:58:33,564] Trial 15 pruned. Trial was pruned at iteration 10.\n",
      "[I 2024-01-12 19:58:33,608] Trial 16 pruned. Trial was pruned at iteration 10.\n",
      "[I 2024-01-12 19:58:33,659] Trial 17 pruned. Trial was pruned at iteration 10.\n",
      "[I 2024-01-12 19:58:33,799] Trial 18 finished with value: 0.9790209790209791 and parameters: {'bagging_fraction': 0.5995200470737633, 'bagging_freq': 2, 'min_child_samples': 54}. Best is trial 5 with value: 0.993006993006993.\n",
      "[I 2024-01-12 19:58:33,862] Trial 19 pruned. Trial was pruned at iteration 10.\n",
      "[I 2024-01-12 19:58:33,911] Trial 20 pruned. Trial was pruned at iteration 10.\n",
      "[I 2024-01-12 19:58:33,965] Trial 21 pruned. Trial was pruned at iteration 10.\n",
      "[I 2024-01-12 19:58:34,014] Trial 22 pruned. Trial was pruned at iteration 10.\n",
      "[I 2024-01-12 19:58:34,065] Trial 23 pruned. Trial was pruned at iteration 10.\n",
      "[I 2024-01-12 19:58:34,117] Trial 24 pruned. Trial was pruned at iteration 10.\n",
      "[I 2024-01-12 19:58:34,250] Trial 25 finished with value: 0.993006993006993 and parameters: {'bagging_fraction': 0.785264491076635, 'bagging_freq': 2, 'min_child_samples': 87}. Best is trial 5 with value: 0.993006993006993.\n",
      "[I 2024-01-12 19:58:34,297] Trial 26 pruned. Trial was pruned at iteration 10.\n",
      "[I 2024-01-12 19:58:34,349] Trial 27 pruned. Trial was pruned at iteration 10.\n",
      "[I 2024-01-12 19:58:34,391] Trial 28 pruned. Trial was pruned at iteration 10.\n",
      "[I 2024-01-12 19:58:34,437] Trial 29 pruned. Trial was pruned at iteration 10.\n",
      "[I 2024-01-12 19:58:34,481] Trial 30 pruned. Trial was pruned at iteration 10.\n",
      "[I 2024-01-12 19:58:34,526] Trial 31 pruned. Trial was pruned at iteration 10.\n",
      "[I 2024-01-12 19:58:34,588] Trial 32 pruned. Trial was pruned at iteration 17.\n",
      "[I 2024-01-12 19:58:34,640] Trial 33 pruned. Trial was pruned at iteration 10.\n",
      "[I 2024-01-12 19:58:34,694] Trial 34 pruned. Trial was pruned at iteration 10.\n",
      "[I 2024-01-12 19:58:34,750] Trial 35 pruned. Trial was pruned at iteration 10.\n",
      "[I 2024-01-12 19:58:34,802] Trial 36 pruned. Trial was pruned at iteration 10.\n",
      "[I 2024-01-12 19:58:34,869] Trial 37 pruned. Trial was pruned at iteration 10.\n",
      "[I 2024-01-12 19:58:34,969] Trial 38 pruned. Trial was pruned at iteration 10.\n",
      "[I 2024-01-12 19:58:35,029] Trial 39 pruned. Trial was pruned at iteration 10.\n",
      "[I 2024-01-12 19:58:35,085] Trial 40 pruned. Trial was pruned at iteration 10.\n",
      "[I 2024-01-12 19:58:35,139] Trial 41 pruned. Trial was pruned at iteration 10.\n",
      "[I 2024-01-12 19:58:35,213] Trial 42 pruned. Trial was pruned at iteration 10.\n",
      "[I 2024-01-12 19:58:35,268] Trial 43 pruned. Trial was pruned at iteration 10.\n",
      "[I 2024-01-12 19:58:35,322] Trial 44 pruned. Trial was pruned at iteration 10.\n",
      "[I 2024-01-12 19:58:35,380] Trial 45 pruned. Trial was pruned at iteration 10.\n",
      "[I 2024-01-12 19:58:35,439] Trial 46 pruned. Trial was pruned at iteration 10.\n",
      "[I 2024-01-12 19:58:35,513] Trial 47 pruned. Trial was pruned at iteration 10.\n",
      "[I 2024-01-12 19:58:35,567] Trial 48 pruned. Trial was pruned at iteration 10.\n",
      "[I 2024-01-12 19:58:35,620] Trial 49 pruned. Trial was pruned at iteration 10.\n",
      "[I 2024-01-12 19:58:35,679] Trial 50 pruned. Trial was pruned at iteration 10.\n",
      "[I 2024-01-12 19:58:35,732] Trial 51 pruned. Trial was pruned at iteration 10.\n",
      "[I 2024-01-12 19:58:35,792] Trial 52 pruned. Trial was pruned at iteration 10.\n",
      "[I 2024-01-12 19:58:35,854] Trial 53 pruned. Trial was pruned at iteration 10.\n",
      "[I 2024-01-12 19:58:35,904] Trial 54 pruned. Trial was pruned at iteration 10.\n",
      "[I 2024-01-12 19:58:35,951] Trial 55 pruned. Trial was pruned at iteration 10.\n",
      "[I 2024-01-12 19:58:36,003] Trial 56 pruned. Trial was pruned at iteration 10.\n",
      "[I 2024-01-12 19:58:36,051] Trial 57 pruned. Trial was pruned at iteration 10.\n",
      "[I 2024-01-12 19:58:36,097] Trial 58 pruned. Trial was pruned at iteration 10.\n",
      "[I 2024-01-12 19:58:36,149] Trial 59 pruned. Trial was pruned at iteration 10.\n",
      "[I 2024-01-12 19:58:36,195] Trial 60 pruned. Trial was pruned at iteration 10.\n",
      "[I 2024-01-12 19:58:36,257] Trial 61 pruned. Trial was pruned at iteration 10.\n",
      "[I 2024-01-12 19:58:36,326] Trial 62 pruned. Trial was pruned at iteration 10.\n",
      "[I 2024-01-12 19:58:36,380] Trial 63 pruned. Trial was pruned at iteration 10.\n",
      "[I 2024-01-12 19:58:36,428] Trial 64 pruned. Trial was pruned at iteration 10.\n",
      "[I 2024-01-12 19:58:36,479] Trial 65 pruned. Trial was pruned at iteration 10.\n",
      "[I 2024-01-12 19:58:36,558] Trial 66 pruned. Trial was pruned at iteration 10.\n",
      "[I 2024-01-12 19:58:36,610] Trial 67 pruned. Trial was pruned at iteration 10.\n",
      "[I 2024-01-12 19:58:36,657] Trial 68 pruned. Trial was pruned at iteration 10.\n",
      "[I 2024-01-12 19:58:36,706] Trial 69 pruned. Trial was pruned at iteration 10.\n",
      "[I 2024-01-12 19:58:36,759] Trial 70 pruned. Trial was pruned at iteration 10.\n",
      "[I 2024-01-12 19:58:36,807] Trial 71 pruned. Trial was pruned at iteration 10.\n",
      "[I 2024-01-12 19:58:36,855] Trial 72 pruned. Trial was pruned at iteration 10.\n",
      "[I 2024-01-12 19:58:36,902] Trial 73 pruned. Trial was pruned at iteration 10.\n",
      "[I 2024-01-12 19:58:36,952] Trial 74 pruned. Trial was pruned at iteration 10.\n",
      "[I 2024-01-12 19:58:37,007] Trial 75 pruned. Trial was pruned at iteration 18.\n",
      "[I 2024-01-12 19:58:37,054] Trial 76 pruned. Trial was pruned at iteration 10.\n",
      "[I 2024-01-12 19:58:37,106] Trial 77 pruned. Trial was pruned at iteration 10.\n",
      "[I 2024-01-12 19:58:37,155] Trial 78 pruned. Trial was pruned at iteration 10.\n",
      "[I 2024-01-12 19:58:37,206] Trial 79 pruned. Trial was pruned at iteration 10.\n",
      "[I 2024-01-12 19:58:37,254] Trial 80 pruned. Trial was pruned at iteration 10.\n",
      "[I 2024-01-12 19:58:37,647] Trial 81 finished with value: 0.986013986013986 and parameters: {'bagging_fraction': 0.8861483649050782, 'bagging_freq': 2, 'min_child_samples': 20}. Best is trial 5 with value: 0.993006993006993.\n",
      "[I 2024-01-12 19:58:38,046] Trial 82 finished with value: 0.972027972027972 and parameters: {'bagging_fraction': 0.9758212142747955, 'bagging_freq': 2, 'min_child_samples': 22}. Best is trial 5 with value: 0.993006993006993.\n",
      "[I 2024-01-12 19:58:38,425] Trial 83 finished with value: 0.9790209790209791 and parameters: {'bagging_fraction': 0.9600778518960513, 'bagging_freq': 2, 'min_child_samples': 25}. Best is trial 5 with value: 0.993006993006993.\n",
      "[I 2024-01-12 19:58:38,494] Trial 84 pruned. Trial was pruned at iteration 10.\n",
      "[I 2024-01-12 19:58:38,569] Trial 85 pruned. Trial was pruned at iteration 10.\n",
      "[I 2024-01-12 19:58:38,660] Trial 86 pruned. Trial was pruned at iteration 10.\n",
      "[I 2024-01-12 19:58:38,723] Trial 87 pruned. Trial was pruned at iteration 10.\n",
      "[I 2024-01-12 19:58:38,791] Trial 88 pruned. Trial was pruned at iteration 10.\n",
      "[I 2024-01-12 19:58:38,858] Trial 89 pruned. Trial was pruned at iteration 10.\n",
      "[I 2024-01-12 19:58:39,310] Trial 90 finished with value: 1.0 and parameters: {'bagging_fraction': 0.9509616881875755, 'bagging_freq': 2, 'min_child_samples': 17}. Best is trial 90 with value: 1.0.\n",
      "[I 2024-01-12 19:58:39,390] Trial 91 pruned. Trial was pruned at iteration 10.\n",
      "[I 2024-01-12 19:58:39,472] Trial 92 pruned. Trial was pruned at iteration 10.\n",
      "[I 2024-01-12 19:58:39,576] Trial 93 pruned. Trial was pruned at iteration 10.\n",
      "[I 2024-01-12 19:58:39,667] Trial 94 pruned. Trial was pruned at iteration 10.\n",
      "[I 2024-01-12 19:58:39,720] Trial 95 pruned. Trial was pruned at iteration 10.\n",
      "[I 2024-01-12 19:58:39,779] Trial 96 pruned. Trial was pruned at iteration 10.\n",
      "[I 2024-01-12 19:58:39,846] Trial 97 pruned. Trial was pruned at iteration 10.\n",
      "[I 2024-01-12 19:58:39,924] Trial 98 pruned. Trial was pruned at iteration 10.\n",
      "[I 2024-01-12 19:58:39,995] Trial 99 pruned. Trial was pruned at iteration 10.\n"
     ]
    }
   ],
   "source": [
    "study = optuna.create_study(\n",
    "    direction=\"maximize\",\n",
    "    sampler=optuna.samplers.TPESampler(seed=SEED),\n",
    "    pruner=optuna.pruners.MedianPruner(n_warmup_steps=10),\n",
    ")\n",
    "study.optimize(objective, n_trials=100, timeout=600)"
   ]
  },
  {
   "cell_type": "code",
   "execution_count": 50,
   "id": "e8e8a3ec-ff34-4d78-9259-45e7ff652459",
   "metadata": {},
   "outputs": [
    {
     "data": {
      "application/vnd.plotly.v1+json": {
       "config": {
        "plotlyServerURL": "https://plot.ly"
       },
       "data": [
        {
         "mode": "markers",
         "name": "Objective Value",
         "type": "scatter",
         "x": [
          0,
          1,
          2,
          3,
          4,
          5,
          12,
          18,
          25,
          81,
          82,
          83,
          90
         ],
         "y": [
          0.972027972027972,
          0.972027972027972,
          0.958041958041958,
          0.9790209790209791,
          0.958041958041958,
          0.993006993006993,
          0.986013986013986,
          0.9790209790209791,
          0.993006993006993,
          0.986013986013986,
          0.972027972027972,
          0.9790209790209791,
          1
         ]
        },
        {
         "mode": "lines",
         "name": "Best Value",
         "type": "scatter",
         "x": [
          0,
          1,
          2,
          3,
          4,
          5,
          6,
          7,
          8,
          9,
          10,
          11,
          12,
          13,
          14,
          15,
          16,
          17,
          18,
          19,
          20,
          21,
          22,
          23,
          24,
          25,
          26,
          27,
          28,
          29,
          30,
          31,
          32,
          33,
          34,
          35,
          36,
          37,
          38,
          39,
          40,
          41,
          42,
          43,
          44,
          45,
          46,
          47,
          48,
          49,
          50,
          51,
          52,
          53,
          54,
          55,
          56,
          57,
          58,
          59,
          60,
          61,
          62,
          63,
          64,
          65,
          66,
          67,
          68,
          69,
          70,
          71,
          72,
          73,
          74,
          75,
          76,
          77,
          78,
          79,
          80,
          81,
          82,
          83,
          84,
          85,
          86,
          87,
          88,
          89,
          90,
          91,
          92,
          93,
          94,
          95,
          96,
          97,
          98,
          99
         ],
         "y": [
          0.972027972027972,
          0.972027972027972,
          0.972027972027972,
          0.9790209790209791,
          0.9790209790209791,
          0.993006993006993,
          0.993006993006993,
          0.993006993006993,
          0.993006993006993,
          0.993006993006993,
          0.993006993006993,
          0.993006993006993,
          0.993006993006993,
          0.993006993006993,
          0.993006993006993,
          0.993006993006993,
          0.993006993006993,
          0.993006993006993,
          0.993006993006993,
          0.993006993006993,
          0.993006993006993,
          0.993006993006993,
          0.993006993006993,
          0.993006993006993,
          0.993006993006993,
          0.993006993006993,
          0.993006993006993,
          0.993006993006993,
          0.993006993006993,
          0.993006993006993,
          0.993006993006993,
          0.993006993006993,
          0.993006993006993,
          0.993006993006993,
          0.993006993006993,
          0.993006993006993,
          0.993006993006993,
          0.993006993006993,
          0.993006993006993,
          0.993006993006993,
          0.993006993006993,
          0.993006993006993,
          0.993006993006993,
          0.993006993006993,
          0.993006993006993,
          0.993006993006993,
          0.993006993006993,
          0.993006993006993,
          0.993006993006993,
          0.993006993006993,
          0.993006993006993,
          0.993006993006993,
          0.993006993006993,
          0.993006993006993,
          0.993006993006993,
          0.993006993006993,
          0.993006993006993,
          0.993006993006993,
          0.993006993006993,
          0.993006993006993,
          0.993006993006993,
          0.993006993006993,
          0.993006993006993,
          0.993006993006993,
          0.993006993006993,
          0.993006993006993,
          0.993006993006993,
          0.993006993006993,
          0.993006993006993,
          0.993006993006993,
          0.993006993006993,
          0.993006993006993,
          0.993006993006993,
          0.993006993006993,
          0.993006993006993,
          0.993006993006993,
          0.993006993006993,
          0.993006993006993,
          0.993006993006993,
          0.993006993006993,
          0.993006993006993,
          0.993006993006993,
          0.993006993006993,
          0.993006993006993,
          0.993006993006993,
          0.993006993006993,
          0.993006993006993,
          0.993006993006993,
          0.993006993006993,
          0.993006993006993,
          1,
          1,
          1,
          1,
          1,
          1,
          1,
          1,
          1,
          1
         ]
        },
        {
         "marker": {
          "color": "#cccccc"
         },
         "mode": "markers",
         "name": "Infeasible Trial",
         "showlegend": false,
         "type": "scatter",
         "x": [],
         "y": []
        }
       ],
       "layout": {
        "autosize": true,
        "template": {
         "data": {
          "bar": [
           {
            "error_x": {
             "color": "#2a3f5f"
            },
            "error_y": {
             "color": "#2a3f5f"
            },
            "marker": {
             "line": {
              "color": "#E5ECF6",
              "width": 0.5
             },
             "pattern": {
              "fillmode": "overlay",
              "size": 10,
              "solidity": 0.2
             }
            },
            "type": "bar"
           }
          ],
          "barpolar": [
           {
            "marker": {
             "line": {
              "color": "#E5ECF6",
              "width": 0.5
             },
             "pattern": {
              "fillmode": "overlay",
              "size": 10,
              "solidity": 0.2
             }
            },
            "type": "barpolar"
           }
          ],
          "carpet": [
           {
            "aaxis": {
             "endlinecolor": "#2a3f5f",
             "gridcolor": "white",
             "linecolor": "white",
             "minorgridcolor": "white",
             "startlinecolor": "#2a3f5f"
            },
            "baxis": {
             "endlinecolor": "#2a3f5f",
             "gridcolor": "white",
             "linecolor": "white",
             "minorgridcolor": "white",
             "startlinecolor": "#2a3f5f"
            },
            "type": "carpet"
           }
          ],
          "choropleth": [
           {
            "colorbar": {
             "outlinewidth": 0,
             "ticks": ""
            },
            "type": "choropleth"
           }
          ],
          "contour": [
           {
            "colorbar": {
             "outlinewidth": 0,
             "ticks": ""
            },
            "colorscale": [
             [
              0,
              "#0d0887"
             ],
             [
              0.1111111111111111,
              "#46039f"
             ],
             [
              0.2222222222222222,
              "#7201a8"
             ],
             [
              0.3333333333333333,
              "#9c179e"
             ],
             [
              0.4444444444444444,
              "#bd3786"
             ],
             [
              0.5555555555555556,
              "#d8576b"
             ],
             [
              0.6666666666666666,
              "#ed7953"
             ],
             [
              0.7777777777777778,
              "#fb9f3a"
             ],
             [
              0.8888888888888888,
              "#fdca26"
             ],
             [
              1,
              "#f0f921"
             ]
            ],
            "type": "contour"
           }
          ],
          "contourcarpet": [
           {
            "colorbar": {
             "outlinewidth": 0,
             "ticks": ""
            },
            "type": "contourcarpet"
           }
          ],
          "heatmap": [
           {
            "colorbar": {
             "outlinewidth": 0,
             "ticks": ""
            },
            "colorscale": [
             [
              0,
              "#0d0887"
             ],
             [
              0.1111111111111111,
              "#46039f"
             ],
             [
              0.2222222222222222,
              "#7201a8"
             ],
             [
              0.3333333333333333,
              "#9c179e"
             ],
             [
              0.4444444444444444,
              "#bd3786"
             ],
             [
              0.5555555555555556,
              "#d8576b"
             ],
             [
              0.6666666666666666,
              "#ed7953"
             ],
             [
              0.7777777777777778,
              "#fb9f3a"
             ],
             [
              0.8888888888888888,
              "#fdca26"
             ],
             [
              1,
              "#f0f921"
             ]
            ],
            "type": "heatmap"
           }
          ],
          "heatmapgl": [
           {
            "colorbar": {
             "outlinewidth": 0,
             "ticks": ""
            },
            "colorscale": [
             [
              0,
              "#0d0887"
             ],
             [
              0.1111111111111111,
              "#46039f"
             ],
             [
              0.2222222222222222,
              "#7201a8"
             ],
             [
              0.3333333333333333,
              "#9c179e"
             ],
             [
              0.4444444444444444,
              "#bd3786"
             ],
             [
              0.5555555555555556,
              "#d8576b"
             ],
             [
              0.6666666666666666,
              "#ed7953"
             ],
             [
              0.7777777777777778,
              "#fb9f3a"
             ],
             [
              0.8888888888888888,
              "#fdca26"
             ],
             [
              1,
              "#f0f921"
             ]
            ],
            "type": "heatmapgl"
           }
          ],
          "histogram": [
           {
            "marker": {
             "pattern": {
              "fillmode": "overlay",
              "size": 10,
              "solidity": 0.2
             }
            },
            "type": "histogram"
           }
          ],
          "histogram2d": [
           {
            "colorbar": {
             "outlinewidth": 0,
             "ticks": ""
            },
            "colorscale": [
             [
              0,
              "#0d0887"
             ],
             [
              0.1111111111111111,
              "#46039f"
             ],
             [
              0.2222222222222222,
              "#7201a8"
             ],
             [
              0.3333333333333333,
              "#9c179e"
             ],
             [
              0.4444444444444444,
              "#bd3786"
             ],
             [
              0.5555555555555556,
              "#d8576b"
             ],
             [
              0.6666666666666666,
              "#ed7953"
             ],
             [
              0.7777777777777778,
              "#fb9f3a"
             ],
             [
              0.8888888888888888,
              "#fdca26"
             ],
             [
              1,
              "#f0f921"
             ]
            ],
            "type": "histogram2d"
           }
          ],
          "histogram2dcontour": [
           {
            "colorbar": {
             "outlinewidth": 0,
             "ticks": ""
            },
            "colorscale": [
             [
              0,
              "#0d0887"
             ],
             [
              0.1111111111111111,
              "#46039f"
             ],
             [
              0.2222222222222222,
              "#7201a8"
             ],
             [
              0.3333333333333333,
              "#9c179e"
             ],
             [
              0.4444444444444444,
              "#bd3786"
             ],
             [
              0.5555555555555556,
              "#d8576b"
             ],
             [
              0.6666666666666666,
              "#ed7953"
             ],
             [
              0.7777777777777778,
              "#fb9f3a"
             ],
             [
              0.8888888888888888,
              "#fdca26"
             ],
             [
              1,
              "#f0f921"
             ]
            ],
            "type": "histogram2dcontour"
           }
          ],
          "mesh3d": [
           {
            "colorbar": {
             "outlinewidth": 0,
             "ticks": ""
            },
            "type": "mesh3d"
           }
          ],
          "parcoords": [
           {
            "line": {
             "colorbar": {
              "outlinewidth": 0,
              "ticks": ""
             }
            },
            "type": "parcoords"
           }
          ],
          "pie": [
           {
            "automargin": true,
            "type": "pie"
           }
          ],
          "scatter": [
           {
            "fillpattern": {
             "fillmode": "overlay",
             "size": 10,
             "solidity": 0.2
            },
            "type": "scatter"
           }
          ],
          "scatter3d": [
           {
            "line": {
             "colorbar": {
              "outlinewidth": 0,
              "ticks": ""
             }
            },
            "marker": {
             "colorbar": {
              "outlinewidth": 0,
              "ticks": ""
             }
            },
            "type": "scatter3d"
           }
          ],
          "scattercarpet": [
           {
            "marker": {
             "colorbar": {
              "outlinewidth": 0,
              "ticks": ""
             }
            },
            "type": "scattercarpet"
           }
          ],
          "scattergeo": [
           {
            "marker": {
             "colorbar": {
              "outlinewidth": 0,
              "ticks": ""
             }
            },
            "type": "scattergeo"
           }
          ],
          "scattergl": [
           {
            "marker": {
             "colorbar": {
              "outlinewidth": 0,
              "ticks": ""
             }
            },
            "type": "scattergl"
           }
          ],
          "scattermapbox": [
           {
            "marker": {
             "colorbar": {
              "outlinewidth": 0,
              "ticks": ""
             }
            },
            "type": "scattermapbox"
           }
          ],
          "scatterpolar": [
           {
            "marker": {
             "colorbar": {
              "outlinewidth": 0,
              "ticks": ""
             }
            },
            "type": "scatterpolar"
           }
          ],
          "scatterpolargl": [
           {
            "marker": {
             "colorbar": {
              "outlinewidth": 0,
              "ticks": ""
             }
            },
            "type": "scatterpolargl"
           }
          ],
          "scatterternary": [
           {
            "marker": {
             "colorbar": {
              "outlinewidth": 0,
              "ticks": ""
             }
            },
            "type": "scatterternary"
           }
          ],
          "surface": [
           {
            "colorbar": {
             "outlinewidth": 0,
             "ticks": ""
            },
            "colorscale": [
             [
              0,
              "#0d0887"
             ],
             [
              0.1111111111111111,
              "#46039f"
             ],
             [
              0.2222222222222222,
              "#7201a8"
             ],
             [
              0.3333333333333333,
              "#9c179e"
             ],
             [
              0.4444444444444444,
              "#bd3786"
             ],
             [
              0.5555555555555556,
              "#d8576b"
             ],
             [
              0.6666666666666666,
              "#ed7953"
             ],
             [
              0.7777777777777778,
              "#fb9f3a"
             ],
             [
              0.8888888888888888,
              "#fdca26"
             ],
             [
              1,
              "#f0f921"
             ]
            ],
            "type": "surface"
           }
          ],
          "table": [
           {
            "cells": {
             "fill": {
              "color": "#EBF0F8"
             },
             "line": {
              "color": "white"
             }
            },
            "header": {
             "fill": {
              "color": "#C8D4E3"
             },
             "line": {
              "color": "white"
             }
            },
            "type": "table"
           }
          ]
         },
         "layout": {
          "annotationdefaults": {
           "arrowcolor": "#2a3f5f",
           "arrowhead": 0,
           "arrowwidth": 1
          },
          "autotypenumbers": "strict",
          "coloraxis": {
           "colorbar": {
            "outlinewidth": 0,
            "ticks": ""
           }
          },
          "colorscale": {
           "diverging": [
            [
             0,
             "#8e0152"
            ],
            [
             0.1,
             "#c51b7d"
            ],
            [
             0.2,
             "#de77ae"
            ],
            [
             0.3,
             "#f1b6da"
            ],
            [
             0.4,
             "#fde0ef"
            ],
            [
             0.5,
             "#f7f7f7"
            ],
            [
             0.6,
             "#e6f5d0"
            ],
            [
             0.7,
             "#b8e186"
            ],
            [
             0.8,
             "#7fbc41"
            ],
            [
             0.9,
             "#4d9221"
            ],
            [
             1,
             "#276419"
            ]
           ],
           "sequential": [
            [
             0,
             "#0d0887"
            ],
            [
             0.1111111111111111,
             "#46039f"
            ],
            [
             0.2222222222222222,
             "#7201a8"
            ],
            [
             0.3333333333333333,
             "#9c179e"
            ],
            [
             0.4444444444444444,
             "#bd3786"
            ],
            [
             0.5555555555555556,
             "#d8576b"
            ],
            [
             0.6666666666666666,
             "#ed7953"
            ],
            [
             0.7777777777777778,
             "#fb9f3a"
            ],
            [
             0.8888888888888888,
             "#fdca26"
            ],
            [
             1,
             "#f0f921"
            ]
           ],
           "sequentialminus": [
            [
             0,
             "#0d0887"
            ],
            [
             0.1111111111111111,
             "#46039f"
            ],
            [
             0.2222222222222222,
             "#7201a8"
            ],
            [
             0.3333333333333333,
             "#9c179e"
            ],
            [
             0.4444444444444444,
             "#bd3786"
            ],
            [
             0.5555555555555556,
             "#d8576b"
            ],
            [
             0.6666666666666666,
             "#ed7953"
            ],
            [
             0.7777777777777778,
             "#fb9f3a"
            ],
            [
             0.8888888888888888,
             "#fdca26"
            ],
            [
             1,
             "#f0f921"
            ]
           ]
          },
          "colorway": [
           "#636efa",
           "#EF553B",
           "#00cc96",
           "#ab63fa",
           "#FFA15A",
           "#19d3f3",
           "#FF6692",
           "#B6E880",
           "#FF97FF",
           "#FECB52"
          ],
          "font": {
           "color": "#2a3f5f"
          },
          "geo": {
           "bgcolor": "white",
           "lakecolor": "white",
           "landcolor": "#E5ECF6",
           "showlakes": true,
           "showland": true,
           "subunitcolor": "white"
          },
          "hoverlabel": {
           "align": "left"
          },
          "hovermode": "closest",
          "mapbox": {
           "style": "light"
          },
          "paper_bgcolor": "white",
          "plot_bgcolor": "#E5ECF6",
          "polar": {
           "angularaxis": {
            "gridcolor": "white",
            "linecolor": "white",
            "ticks": ""
           },
           "bgcolor": "#E5ECF6",
           "radialaxis": {
            "gridcolor": "white",
            "linecolor": "white",
            "ticks": ""
           }
          },
          "scene": {
           "xaxis": {
            "backgroundcolor": "#E5ECF6",
            "gridcolor": "white",
            "gridwidth": 2,
            "linecolor": "white",
            "showbackground": true,
            "ticks": "",
            "zerolinecolor": "white"
           },
           "yaxis": {
            "backgroundcolor": "#E5ECF6",
            "gridcolor": "white",
            "gridwidth": 2,
            "linecolor": "white",
            "showbackground": true,
            "ticks": "",
            "zerolinecolor": "white"
           },
           "zaxis": {
            "backgroundcolor": "#E5ECF6",
            "gridcolor": "white",
            "gridwidth": 2,
            "linecolor": "white",
            "showbackground": true,
            "ticks": "",
            "zerolinecolor": "white"
           }
          },
          "shapedefaults": {
           "line": {
            "color": "#2a3f5f"
           }
          },
          "ternary": {
           "aaxis": {
            "gridcolor": "white",
            "linecolor": "white",
            "ticks": ""
           },
           "baxis": {
            "gridcolor": "white",
            "linecolor": "white",
            "ticks": ""
           },
           "bgcolor": "#E5ECF6",
           "caxis": {
            "gridcolor": "white",
            "linecolor": "white",
            "ticks": ""
           }
          },
          "title": {
           "x": 0.05
          },
          "xaxis": {
           "automargin": true,
           "gridcolor": "white",
           "linecolor": "white",
           "ticks": "",
           "title": {
            "standoff": 15
           },
           "zerolinecolor": "white",
           "zerolinewidth": 2
          },
          "yaxis": {
           "automargin": true,
           "gridcolor": "white",
           "linecolor": "white",
           "ticks": "",
           "title": {
            "standoff": 15
           },
           "zerolinecolor": "white",
           "zerolinewidth": 2
          }
         }
        },
        "title": {
         "text": "Optimization History Plot"
        },
        "xaxis": {
         "autorange": true,
         "range": [
          -5.733181757389327,
          99
         ],
         "title": {
          "text": "Trial"
         },
         "type": "linear"
        },
        "yaxis": {
         "autorange": true,
         "range": [
          0.9545794011813429,
          1.003462556860615
         ],
         "title": {
          "text": "Objective Value"
         },
         "type": "linear"
        }
       }
      },
      "image/png": "[encoded data removed]",
      "text/html": [
       "<div>                            <div id=\"019e1b7a-8927-4411-9026-1410a7f67f6d\" class=\"plotly-graph-div\" style=\"height:525px; width:100%;\"></div>            <script type=\"text/javascript\">                require([\"plotly\"], function(Plotly) {                    window.PLOTLYENV=window.PLOTLYENV || {};                                    if (document.getElementById(\"019e1b7a-8927-4411-9026-1410a7f67f6d\")) {                    Plotly.newPlot(                        \"019e1b7a-8927-4411-9026-1410a7f67f6d\",                        [{\"mode\":\"markers\",\"name\":\"Objective Value\",\"x\":[0,1,2,3,4,5,12,18,25,81,82,83,90],\"y\":[0.972027972027972,0.972027972027972,0.958041958041958,0.9790209790209791,0.958041958041958,0.993006993006993,0.986013986013986,0.9790209790209791,0.993006993006993,0.986013986013986,0.972027972027972,0.9790209790209791,1.0],\"type\":\"scatter\"},{\"mode\":\"lines\",\"name\":\"Best Value\",\"x\":[0,1,2,3,4,5,6,7,8,9,10,11,12,13,14,15,16,17,18,19,20,21,22,23,24,25,26,27,28,29,30,31,32,33,34,35,36,37,38,39,40,41,42,43,44,45,46,47,48,49,50,51,52,53,54,55,56,57,58,59,60,61,62,63,64,65,66,67,68,69,70,71,72,73,74,75,76,77,78,79,80,81,82,83,84,85,86,87,88,89,90,91,92,93,94,95,96,97,98,99],\"y\":[0.972027972027972,0.972027972027972,0.972027972027972,0.9790209790209791,0.9790209790209791,0.993006993006993,0.993006993006993,0.993006993006993,0.993006993006993,0.993006993006993,0.993006993006993,0.993006993006993,0.993006993006993,0.993006993006993,0.993006993006993,0.993006993006993,0.993006993006993,0.993006993006993,0.993006993006993,0.993006993006993,0.993006993006993,0.993006993006993,0.993006993006993,0.993006993006993,0.993006993006993,0.993006993006993,0.993006993006993,0.993006993006993,0.993006993006993,0.993006993006993,0.993006993006993,0.993006993006993,0.993006993006993,0.993006993006993,0.993006993006993,0.993006993006993,0.993006993006993,0.993006993006993,0.993006993006993,0.993006993006993,0.993006993006993,0.993006993006993,0.993006993006993,0.993006993006993,0.993006993006993,0.993006993006993,0.993006993006993,0.993006993006993,0.993006993006993,0.993006993006993,0.993006993006993,0.993006993006993,0.993006993006993,0.993006993006993,0.993006993006993,0.993006993006993,0.993006993006993,0.993006993006993,0.993006993006993,0.993006993006993,0.993006993006993,0.993006993006993,0.993006993006993,0.993006993006993,0.993006993006993,0.993006993006993,0.993006993006993,0.993006993006993,0.993006993006993,0.993006993006993,0.993006993006993,0.993006993006993,0.993006993006993,0.993006993006993,0.993006993006993,0.993006993006993,0.993006993006993,0.993006993006993,0.993006993006993,0.993006993006993,0.993006993006993,0.993006993006993,0.993006993006993,0.993006993006993,0.993006993006993,0.993006993006993,0.993006993006993,0.993006993006993,0.993006993006993,0.993006993006993,1.0,1.0,1.0,1.0,1.0,1.0,1.0,1.0,1.0,1.0],\"type\":\"scatter\"},{\"marker\":{\"color\":\"#cccccc\"},\"mode\":\"markers\",\"name\":\"Infeasible Trial\",\"showlegend\":false,\"x\":[],\"y\":[],\"type\":\"scatter\"}],                        {\"title\":{\"text\":\"Optimization History Plot\"},\"xaxis\":{\"title\":{\"text\":\"Trial\"}},\"yaxis\":{\"title\":{\"text\":\"Objective Value\"}},\"template\":{\"data\":{\"histogram2dcontour\":[{\"type\":\"histogram2dcontour\",\"colorbar\":{\"outlinewidth\":0,\"ticks\":\"\"},\"colorscale\":[[0.0,\"#0d0887\"],[0.1111111111111111,\"#46039f\"],[0.2222222222222222,\"#7201a8\"],[0.3333333333333333,\"#9c179e\"],[0.4444444444444444,\"#bd3786\"],[0.5555555555555556,\"#d8576b\"],[0.6666666666666666,\"#ed7953\"],[0.7777777777777778,\"#fb9f3a\"],[0.8888888888888888,\"#fdca26\"],[1.0,\"#f0f921\"]]}],\"choropleth\":[{\"type\":\"choropleth\",\"colorbar\":{\"outlinewidth\":0,\"ticks\":\"\"}}],\"histogram2d\":[{\"type\":\"histogram2d\",\"colorbar\":{\"outlinewidth\":0,\"ticks\":\"\"},\"colorscale\":[[0.0,\"#0d0887\"],[0.1111111111111111,\"#46039f\"],[0.2222222222222222,\"#7201a8\"],[0.3333333333333333,\"#9c179e\"],[0.4444444444444444,\"#bd3786\"],[0.5555555555555556,\"#d8576b\"],[0.6666666666666666,\"#ed7953\"],[0.7777777777777778,\"#fb9f3a\"],[0.8888888888888888,\"#fdca26\"],[1.0,\"#f0f921\"]]}],\"heatmap\":[{\"type\":\"heatmap\",\"colorbar\":{\"outlinewidth\":0,\"ticks\":\"\"},\"colorscale\":[[0.0,\"#0d0887\"],[0.1111111111111111,\"#46039f\"],[0.2222222222222222,\"#7201a8\"],[0.3333333333333333,\"#9c179e\"],[0.4444444444444444,\"#bd3786\"],[0.5555555555555556,\"#d8576b\"],[0.6666666666666666,\"#ed7953\"],[0.7777777777777778,\"#fb9f3a\"],[0.8888888888888888,\"#fdca26\"],[1.0,\"#f0f921\"]]}],\"heatmapgl\":[{\"type\":\"heatmapgl\",\"colorbar\":{\"outlinewidth\":0,\"ticks\":\"\"},\"colorscale\":[[0.0,\"#0d0887\"],[0.1111111111111111,\"#46039f\"],[0.2222222222222222,\"#7201a8\"],[0.3333333333333333,\"#9c179e\"],[0.4444444444444444,\"#bd3786\"],[0.5555555555555556,\"#d8576b\"],[0.6666666666666666,\"#ed7953\"],[0.7777777777777778,\"#fb9f3a\"],[0.8888888888888888,\"#fdca26\"],[1.0,\"#f0f921\"]]}],\"contourcarpet\":[{\"type\":\"contourcarpet\",\"colorbar\":{\"outlinewidth\":0,\"ticks\":\"\"}}],\"contour\":[{\"type\":\"contour\",\"colorbar\":{\"outlinewidth\":0,\"ticks\":\"\"},\"colorscale\":[[0.0,\"#0d0887\"],[0.1111111111111111,\"#46039f\"],[0.2222222222222222,\"#7201a8\"],[0.3333333333333333,\"#9c179e\"],[0.4444444444444444,\"#bd3786\"],[0.5555555555555556,\"#d8576b\"],[0.6666666666666666,\"#ed7953\"],[0.7777777777777778,\"#fb9f3a\"],[0.8888888888888888,\"#fdca26\"],[1.0,\"#f0f921\"]]}],\"surface\":[{\"type\":\"surface\",\"colorbar\":{\"outlinewidth\":0,\"ticks\":\"\"},\"colorscale\":[[0.0,\"#0d0887\"],[0.1111111111111111,\"#46039f\"],[0.2222222222222222,\"#7201a8\"],[0.3333333333333333,\"#9c179e\"],[0.4444444444444444,\"#bd3786\"],[0.5555555555555556,\"#d8576b\"],[0.6666666666666666,\"#ed7953\"],[0.7777777777777778,\"#fb9f3a\"],[0.8888888888888888,\"#fdca26\"],[1.0,\"#f0f921\"]]}],\"mesh3d\":[{\"type\":\"mesh3d\",\"colorbar\":{\"outlinewidth\":0,\"ticks\":\"\"}}],\"scatter\":[{\"fillpattern\":{\"fillmode\":\"overlay\",\"size\":10,\"solidity\":0.2},\"type\":\"scatter\"}],\"parcoords\":[{\"type\":\"parcoords\",\"line\":{\"colorbar\":{\"outlinewidth\":0,\"ticks\":\"\"}}}],\"scatterpolargl\":[{\"type\":\"scatterpolargl\",\"marker\":{\"colorbar\":{\"outlinewidth\":0,\"ticks\":\"\"}}}],\"bar\":[{\"error_x\":{\"color\":\"#2a3f5f\"},\"error_y\":{\"color\":\"#2a3f5f\"},\"marker\":{\"line\":{\"color\":\"#E5ECF6\",\"width\":0.5},\"pattern\":{\"fillmode\":\"overlay\",\"size\":10,\"solidity\":0.2}},\"type\":\"bar\"}],\"scattergeo\":[{\"type\":\"scattergeo\",\"marker\":{\"colorbar\":{\"outlinewidth\":0,\"ticks\":\"\"}}}],\"scatterpolar\":[{\"type\":\"scatterpolar\",\"marker\":{\"colorbar\":{\"outlinewidth\":0,\"ticks\":\"\"}}}],\"histogram\":[{\"marker\":{\"pattern\":{\"fillmode\":\"overlay\",\"size\":10,\"solidity\":0.2}},\"type\":\"histogram\"}],\"scattergl\":[{\"type\":\"scattergl\",\"marker\":{\"colorbar\":{\"outlinewidth\":0,\"ticks\":\"\"}}}],\"scatter3d\":[{\"type\":\"scatter3d\",\"line\":{\"colorbar\":{\"outlinewidth\":0,\"ticks\":\"\"}},\"marker\":{\"colorbar\":{\"outlinewidth\":0,\"ticks\":\"\"}}}],\"scattermapbox\":[{\"type\":\"scattermapbox\",\"marker\":{\"colorbar\":{\"outlinewidth\":0,\"ticks\":\"\"}}}],\"scatterternary\":[{\"type\":\"scatterternary\",\"marker\":{\"colorbar\":{\"outlinewidth\":0,\"ticks\":\"\"}}}],\"scattercarpet\":[{\"type\":\"scattercarpet\",\"marker\":{\"colorbar\":{\"outlinewidth\":0,\"ticks\":\"\"}}}],\"carpet\":[{\"aaxis\":{\"endlinecolor\":\"#2a3f5f\",\"gridcolor\":\"white\",\"linecolor\":\"white\",\"minorgridcolor\":\"white\",\"startlinecolor\":\"#2a3f5f\"},\"baxis\":{\"endlinecolor\":\"#2a3f5f\",\"gridcolor\":\"white\",\"linecolor\":\"white\",\"minorgridcolor\":\"white\",\"startlinecolor\":\"#2a3f5f\"},\"type\":\"carpet\"}],\"table\":[{\"cells\":{\"fill\":{\"color\":\"#EBF0F8\"},\"line\":{\"color\":\"white\"}},\"header\":{\"fill\":{\"color\":\"#C8D4E3\"},\"line\":{\"color\":\"white\"}},\"type\":\"table\"}],\"barpolar\":[{\"marker\":{\"line\":{\"color\":\"#E5ECF6\",\"width\":0.5},\"pattern\":{\"fillmode\":\"overlay\",\"size\":10,\"solidity\":0.2}},\"type\":\"barpolar\"}],\"pie\":[{\"automargin\":true,\"type\":\"pie\"}]},\"layout\":{\"autotypenumbers\":\"strict\",\"colorway\":[\"#636efa\",\"#EF553B\",\"#00cc96\",\"#ab63fa\",\"#FFA15A\",\"#19d3f3\",\"#FF6692\",\"#B6E880\",\"#FF97FF\",\"#FECB52\"],\"font\":{\"color\":\"#2a3f5f\"},\"hovermode\":\"closest\",\"hoverlabel\":{\"align\":\"left\"},\"paper_bgcolor\":\"white\",\"plot_bgcolor\":\"#E5ECF6\",\"polar\":{\"bgcolor\":\"#E5ECF6\",\"angularaxis\":{\"gridcolor\":\"white\",\"linecolor\":\"white\",\"ticks\":\"\"},\"radialaxis\":{\"gridcolor\":\"white\",\"linecolor\":\"white\",\"ticks\":\"\"}},\"ternary\":{\"bgcolor\":\"#E5ECF6\",\"aaxis\":{\"gridcolor\":\"white\",\"linecolor\":\"white\",\"ticks\":\"\"},\"baxis\":{\"gridcolor\":\"white\",\"linecolor\":\"white\",\"ticks\":\"\"},\"caxis\":{\"gridcolor\":\"white\",\"linecolor\":\"white\",\"ticks\":\"\"}},\"coloraxis\":{\"colorbar\":{\"outlinewidth\":0,\"ticks\":\"\"}},\"colorscale\":{\"sequential\":[[0.0,\"#0d0887\"],[0.1111111111111111,\"#46039f\"],[0.2222222222222222,\"#7201a8\"],[0.3333333333333333,\"#9c179e\"],[0.4444444444444444,\"#bd3786\"],[0.5555555555555556,\"#d8576b\"],[0.6666666666666666,\"#ed7953\"],[0.7777777777777778,\"#fb9f3a\"],[0.8888888888888888,\"#fdca26\"],[1.0,\"#f0f921\"]],\"sequentialminus\":[[0.0,\"#0d0887\"],[0.1111111111111111,\"#46039f\"],[0.2222222222222222,\"#7201a8\"],[0.3333333333333333,\"#9c179e\"],[0.4444444444444444,\"#bd3786\"],[0.5555555555555556,\"#d8576b\"],[0.6666666666666666,\"#ed7953\"],[0.7777777777777778,\"#fb9f3a\"],[0.8888888888888888,\"#fdca26\"],[1.0,\"#f0f921\"]],\"diverging\":[[0,\"#8e0152\"],[0.1,\"#c51b7d\"],[0.2,\"#de77ae\"],[0.3,\"#f1b6da\"],[0.4,\"#fde0ef\"],[0.5,\"#f7f7f7\"],[0.6,\"#e6f5d0\"],[0.7,\"#b8e186\"],[0.8,\"#7fbc41\"],[0.9,\"#4d9221\"],[1,\"#276419\"]]},\"xaxis\":{\"gridcolor\":\"white\",\"linecolor\":\"white\",\"ticks\":\"\",\"title\":{\"standoff\":15},\"zerolinecolor\":\"white\",\"automargin\":true,\"zerolinewidth\":2},\"yaxis\":{\"gridcolor\":\"white\",\"linecolor\":\"white\",\"ticks\":\"\",\"title\":{\"standoff\":15},\"zerolinecolor\":\"white\",\"automargin\":true,\"zerolinewidth\":2},\"scene\":{\"xaxis\":{\"backgroundcolor\":\"#E5ECF6\",\"gridcolor\":\"white\",\"linecolor\":\"white\",\"showbackground\":true,\"ticks\":\"\",\"zerolinecolor\":\"white\",\"gridwidth\":2},\"yaxis\":{\"backgroundcolor\":\"#E5ECF6\",\"gridcolor\":\"white\",\"linecolor\":\"white\",\"showbackground\":true,\"ticks\":\"\",\"zerolinecolor\":\"white\",\"gridwidth\":2},\"zaxis\":{\"backgroundcolor\":\"#E5ECF6\",\"gridcolor\":\"white\",\"linecolor\":\"white\",\"showbackground\":true,\"ticks\":\"\",\"zerolinecolor\":\"white\",\"gridwidth\":2}},\"shapedefaults\":{\"line\":{\"color\":\"#2a3f5f\"}},\"annotationdefaults\":{\"arrowcolor\":\"#2a3f5f\",\"arrowhead\":0,\"arrowwidth\":1},\"geo\":{\"bgcolor\":\"white\",\"landcolor\":\"#E5ECF6\",\"subunitcolor\":\"white\",\"showland\":true,\"showlakes\":true,\"lakecolor\":\"white\"},\"title\":{\"x\":0.05},\"mapbox\":{\"style\":\"light\"}}}},                        {\"responsive\": true}                    ).then(function(){\n",
       "                            \n",
       "var gd = document.getElementById('019e1b7a-8927-4411-9026-1410a7f67f6d');\n",
       "var x = new MutationObserver(function (mutations, observer) {{\n",
       "        var display = window.getComputedStyle(gd).display;\n",
       "        if (!display || display === 'none') {{\n",
       "            console.log([gd, 'removed!']);\n",
       "            Plotly.purge(gd);\n",
       "            observer.disconnect();\n",
       "        }}\n",
       "}});\n",
       "\n",
       "// Listen for the removal of the full notebook cells\n",
       "var notebookContainer = gd.closest('#notebook-container');\n",
       "if (notebookContainer) {{\n",
       "    x.observe(notebookContainer, {childList: true});\n",
       "}}\n",
       "\n",
       "// Listen for the clearing of the current output cell\n",
       "var outputEl = gd.closest('.output');\n",
       "if (outputEl) {{\n",
       "    x.observe(outputEl, {childList: true});\n",
       "}}\n",
       "\n",
       "                        })                };                });            </script>        </div>"
      ]
     },
     "metadata": {},
     "output_type": "display_data"
    }
   ],
   "source": [
    "plot_optimization_history(study)"
   ]
  },
  {
   "cell_type": "code",
   "execution_count": 51,
   "id": "a03e0f79-3620-4075-b6d5-51d9401b91e8",
   "metadata": {},
   "outputs": [
    {
     "name": "stderr",
     "output_type": "stream",
     "text": [
      "/var/folders/2j/dc7nf71d5rs257btd835kclr0000gp/T/ipykernel_39005/3836449081.py:1: ExperimentalWarning:\n",
      "\n",
      "plot_param_importances is experimental (supported from v2.2.0). The interface can change in the future.\n",
      "\n"
     ]
    },
    {
     "ename": "ImportError",
     "evalue": "Tried to import 'matplotlib' but failed. Please make sure that the package is installed correctly to use this feature. Actual error: No module named 'matplotlib'.",
     "output_type": "error",
     "traceback": [
      "\u001b[0;31m---------------------------------------------------------------------------\u001b[0m",
      "\u001b[0;31mModuleNotFoundError\u001b[0m                       Traceback (most recent call last)",
      "File \u001b[0;32m/Applications/anaconda3/envs/optuna-dash/lib/python3.9/site-packages/optuna/visualization/matplotlib/_matplotlib_imports.py:8\u001b[0m\n\u001b[1;32m      6\u001b[0m \u001b[38;5;28;01mwith\u001b[39;00m try_import() \u001b[38;5;28;01mas\u001b[39;00m _imports:\n\u001b[1;32m      7\u001b[0m     \u001b[38;5;66;03m# TODO(ytknzw): Add specific imports.\u001b[39;00m\n\u001b[0;32m----> 8\u001b[0m     \u001b[38;5;28;01mimport\u001b[39;00m \u001b[38;5;21;01mmatplotlib\u001b[39;00m\n\u001b[1;32m      9\u001b[0m     \u001b[38;5;28;01mfrom\u001b[39;00m \u001b[38;5;21;01mmatplotlib\u001b[39;00m \u001b[38;5;28;01mimport\u001b[39;00m __version__ \u001b[38;5;28;01mas\u001b[39;00m matplotlib_version\n",
      "\u001b[0;31mModuleNotFoundError\u001b[0m: No module named 'matplotlib'",
      "\nThe above exception was the direct cause of the following exception:\n",
      "\u001b[0;31mImportError\u001b[0m                               Traceback (most recent call last)",
      "Cell \u001b[0;32mIn[51], line 1\u001b[0m\n\u001b[0;32m----> 1\u001b[0m \u001b[43mplot_param_importances\u001b[49m\u001b[43m(\u001b[49m\u001b[43mstudy\u001b[49m\u001b[43m)\u001b[49m\n",
      "File \u001b[0;32m/Applications/anaconda3/envs/optuna-dash/lib/python3.9/site-packages/optuna/_experimental.py:74\u001b[0m, in \u001b[0;36mexperimental_func.<locals>.decorator.<locals>.wrapper\u001b[0;34m(*args, **kwargs)\u001b[0m\n\u001b[1;32m     63\u001b[0m \u001b[38;5;129m@functools\u001b[39m\u001b[38;5;241m.\u001b[39mwraps(func)\n\u001b[1;32m     64\u001b[0m \u001b[38;5;28;01mdef\u001b[39;00m \u001b[38;5;21mwrapper\u001b[39m(\u001b[38;5;241m*\u001b[39margs: Any, \u001b[38;5;241m*\u001b[39m\u001b[38;5;241m*\u001b[39mkwargs: Any) \u001b[38;5;241m-\u001b[39m\u001b[38;5;241m>\u001b[39m \u001b[38;5;124m\"\u001b[39m\u001b[38;5;124mFT\u001b[39m\u001b[38;5;124m\"\u001b[39m:\n\u001b[1;32m     65\u001b[0m     warnings\u001b[38;5;241m.\u001b[39mwarn(\n\u001b[1;32m     66\u001b[0m         \u001b[38;5;124m\"\u001b[39m\u001b[38;5;132;01m{}\u001b[39;00m\u001b[38;5;124m is experimental (supported from v\u001b[39m\u001b[38;5;132;01m{}\u001b[39;00m\u001b[38;5;124m). \u001b[39m\u001b[38;5;124m\"\u001b[39m\n\u001b[1;32m     67\u001b[0m         \u001b[38;5;124m\"\u001b[39m\u001b[38;5;124mThe interface can change in the future.\u001b[39m\u001b[38;5;124m\"\u001b[39m\u001b[38;5;241m.\u001b[39mformat(\n\u001b[0;32m   (...)\u001b[0m\n\u001b[1;32m     71\u001b[0m         stacklevel\u001b[38;5;241m=\u001b[39m\u001b[38;5;241m2\u001b[39m,\n\u001b[1;32m     72\u001b[0m     )\n\u001b[0;32m---> 74\u001b[0m     \u001b[38;5;28;01mreturn\u001b[39;00m \u001b[43mfunc\u001b[49m\u001b[43m(\u001b[49m\u001b[38;5;241;43m*\u001b[39;49m\u001b[43margs\u001b[49m\u001b[43m,\u001b[49m\u001b[43m \u001b[49m\u001b[38;5;241;43m*\u001b[39;49m\u001b[38;5;241;43m*\u001b[39;49m\u001b[43mkwargs\u001b[49m\u001b[43m)\u001b[49m\n",
      "File \u001b[0;32m/Applications/anaconda3/envs/optuna-dash/lib/python3.9/site-packages/optuna/visualization/matplotlib/_param_importances.py:97\u001b[0m, in \u001b[0;36mplot_param_importances\u001b[0;34m(study, evaluator, params, target, target_name)\u001b[0m\n\u001b[1;32m     29\u001b[0m \u001b[38;5;129m@experimental_func\u001b[39m(\u001b[38;5;124m\"\u001b[39m\u001b[38;5;124m2.2.0\u001b[39m\u001b[38;5;124m\"\u001b[39m)\n\u001b[1;32m     30\u001b[0m \u001b[38;5;28;01mdef\u001b[39;00m \u001b[38;5;21mplot_param_importances\u001b[39m(\n\u001b[1;32m     31\u001b[0m     study: Study,\n\u001b[0;32m   (...)\u001b[0m\n\u001b[1;32m     36\u001b[0m     target_name: \u001b[38;5;28mstr\u001b[39m \u001b[38;5;241m=\u001b[39m \u001b[38;5;124m\"\u001b[39m\u001b[38;5;124mObjective Value\u001b[39m\u001b[38;5;124m\"\u001b[39m,\n\u001b[1;32m     37\u001b[0m ) \u001b[38;5;241m-\u001b[39m\u001b[38;5;241m>\u001b[39m \u001b[38;5;124m\"\u001b[39m\u001b[38;5;124mAxes\u001b[39m\u001b[38;5;124m\"\u001b[39m:\n\u001b[1;32m     38\u001b[0m \u001b[38;5;250m    \u001b[39m\u001b[38;5;124;03m\"\"\"Plot hyperparameter importances with Matplotlib.\u001b[39;00m\n\u001b[1;32m     39\u001b[0m \n\u001b[1;32m     40\u001b[0m \u001b[38;5;124;03m    .. seealso::\u001b[39;00m\n\u001b[0;32m   (...)\u001b[0m\n\u001b[1;32m     94\u001b[0m \u001b[38;5;124;03m        A :class:`matplotlib.axes.Axes` object.\u001b[39;00m\n\u001b[1;32m     95\u001b[0m \u001b[38;5;124;03m    \"\"\"\u001b[39;00m\n\u001b[0;32m---> 97\u001b[0m     \u001b[43m_imports\u001b[49m\u001b[38;5;241;43m.\u001b[39;49m\u001b[43mcheck\u001b[49m\u001b[43m(\u001b[49m\u001b[43m)\u001b[49m\n\u001b[1;32m     98\u001b[0m     importances_infos \u001b[38;5;241m=\u001b[39m _get_importances_infos(study, evaluator, params, target, target_name)\n\u001b[1;32m     99\u001b[0m     \u001b[38;5;28;01mreturn\u001b[39;00m _get_importances_plot(importances_infos)\n",
      "File \u001b[0;32m/Applications/anaconda3/envs/optuna-dash/lib/python3.9/site-packages/optuna/_imports.py:89\u001b[0m, in \u001b[0;36m_DeferredImportExceptionContextManager.check\u001b[0;34m(self)\u001b[0m\n\u001b[1;32m     87\u001b[0m \u001b[38;5;28;01mif\u001b[39;00m \u001b[38;5;28mself\u001b[39m\u001b[38;5;241m.\u001b[39m_deferred \u001b[38;5;129;01mis\u001b[39;00m \u001b[38;5;129;01mnot\u001b[39;00m \u001b[38;5;28;01mNone\u001b[39;00m:\n\u001b[1;32m     88\u001b[0m     exc_value, message \u001b[38;5;241m=\u001b[39m \u001b[38;5;28mself\u001b[39m\u001b[38;5;241m.\u001b[39m_deferred\n\u001b[0;32m---> 89\u001b[0m     \u001b[38;5;28;01mraise\u001b[39;00m \u001b[38;5;167;01mImportError\u001b[39;00m(message) \u001b[38;5;28;01mfrom\u001b[39;00m \u001b[38;5;21;01mexc_value\u001b[39;00m\n",
      "\u001b[0;31mImportError\u001b[0m: Tried to import 'matplotlib' but failed. Please make sure that the package is installed correctly to use this feature. Actual error: No module named 'matplotlib'."
     ]
    }
   ],
   "source": [
    "plot_param_importances(study)"
   ]
  },
  {
   "cell_type": "code",
   "execution_count": 33,
   "id": "571647fe-502a-489b-8a8f-a9388180b8b5",
   "metadata": {},
   "outputs": [
    {
     "name": "stderr",
     "output_type": "stream",
     "text": [
      "/var/folders/2j/dc7nf71d5rs257btd835kclr0000gp/T/ipykernel_39005/4291280223.py:1: ExperimentalWarning:\n",
      "\n",
      "plot_parallel_coordinate is experimental (supported from v2.2.0). The interface can change in the future.\n",
      "\n"
     ]
    },
    {
     "ename": "ImportError",
     "evalue": "Tried to import 'matplotlib' but failed. Please make sure that the package is installed correctly to use this feature. Actual error: No module named 'matplotlib'.",
     "output_type": "error",
     "traceback": [
      "\u001b[0;31m---------------------------------------------------------------------------\u001b[0m",
      "\u001b[0;31mModuleNotFoundError\u001b[0m                       Traceback (most recent call last)",
      "File \u001b[0;32m/Applications/anaconda3/envs/optuna-dash/lib/python3.9/site-packages/optuna/visualization/matplotlib/_matplotlib_imports.py:8\u001b[0m\n\u001b[1;32m      6\u001b[0m \u001b[38;5;28;01mwith\u001b[39;00m try_import() \u001b[38;5;28;01mas\u001b[39;00m _imports:\n\u001b[1;32m      7\u001b[0m     \u001b[38;5;66;03m# TODO(ytknzw): Add specific imports.\u001b[39;00m\n\u001b[0;32m----> 8\u001b[0m     \u001b[38;5;28;01mimport\u001b[39;00m \u001b[38;5;21;01mmatplotlib\u001b[39;00m\n\u001b[1;32m      9\u001b[0m     \u001b[38;5;28;01mfrom\u001b[39;00m \u001b[38;5;21;01mmatplotlib\u001b[39;00m \u001b[38;5;28;01mimport\u001b[39;00m __version__ \u001b[38;5;28;01mas\u001b[39;00m matplotlib_version\n",
      "\u001b[0;31mModuleNotFoundError\u001b[0m: No module named 'matplotlib'",
      "\nThe above exception was the direct cause of the following exception:\n",
      "\u001b[0;31mImportError\u001b[0m                               Traceback (most recent call last)",
      "Cell \u001b[0;32mIn[33], line 1\u001b[0m\n\u001b[0;32m----> 1\u001b[0m \u001b[43mplot_parallel_coordinate\u001b[49m\u001b[43m(\u001b[49m\u001b[43mstudy\u001b[49m\u001b[43m)\u001b[49m\n",
      "File \u001b[0;32m/Applications/anaconda3/envs/optuna-dash/lib/python3.9/site-packages/optuna/_experimental.py:74\u001b[0m, in \u001b[0;36mexperimental_func.<locals>.decorator.<locals>.wrapper\u001b[0;34m(*args, **kwargs)\u001b[0m\n\u001b[1;32m     63\u001b[0m \u001b[38;5;129m@functools\u001b[39m\u001b[38;5;241m.\u001b[39mwraps(func)\n\u001b[1;32m     64\u001b[0m \u001b[38;5;28;01mdef\u001b[39;00m \u001b[38;5;21mwrapper\u001b[39m(\u001b[38;5;241m*\u001b[39margs: Any, \u001b[38;5;241m*\u001b[39m\u001b[38;5;241m*\u001b[39mkwargs: Any) \u001b[38;5;241m-\u001b[39m\u001b[38;5;241m>\u001b[39m \u001b[38;5;124m\"\u001b[39m\u001b[38;5;124mFT\u001b[39m\u001b[38;5;124m\"\u001b[39m:\n\u001b[1;32m     65\u001b[0m     warnings\u001b[38;5;241m.\u001b[39mwarn(\n\u001b[1;32m     66\u001b[0m         \u001b[38;5;124m\"\u001b[39m\u001b[38;5;132;01m{}\u001b[39;00m\u001b[38;5;124m is experimental (supported from v\u001b[39m\u001b[38;5;132;01m{}\u001b[39;00m\u001b[38;5;124m). \u001b[39m\u001b[38;5;124m\"\u001b[39m\n\u001b[1;32m     67\u001b[0m         \u001b[38;5;124m\"\u001b[39m\u001b[38;5;124mThe interface can change in the future.\u001b[39m\u001b[38;5;124m\"\u001b[39m\u001b[38;5;241m.\u001b[39mformat(\n\u001b[0;32m   (...)\u001b[0m\n\u001b[1;32m     71\u001b[0m         stacklevel\u001b[38;5;241m=\u001b[39m\u001b[38;5;241m2\u001b[39m,\n\u001b[1;32m     72\u001b[0m     )\n\u001b[0;32m---> 74\u001b[0m     \u001b[38;5;28;01mreturn\u001b[39;00m \u001b[43mfunc\u001b[49m\u001b[43m(\u001b[49m\u001b[38;5;241;43m*\u001b[39;49m\u001b[43margs\u001b[49m\u001b[43m,\u001b[49m\u001b[43m \u001b[49m\u001b[38;5;241;43m*\u001b[39;49m\u001b[38;5;241;43m*\u001b[39;49m\u001b[43mkwargs\u001b[49m\u001b[43m)\u001b[49m\n",
      "File \u001b[0;32m/Applications/anaconda3/envs/optuna-dash/lib/python3.9/site-packages/optuna/visualization/matplotlib/_parallel_coordinate.py:78\u001b[0m, in \u001b[0;36mplot_parallel_coordinate\u001b[0;34m(study, params, target, target_name)\u001b[0m\n\u001b[1;32m     21\u001b[0m \u001b[38;5;129m@experimental_func\u001b[39m(\u001b[38;5;124m\"\u001b[39m\u001b[38;5;124m2.2.0\u001b[39m\u001b[38;5;124m\"\u001b[39m)\n\u001b[1;32m     22\u001b[0m \u001b[38;5;28;01mdef\u001b[39;00m \u001b[38;5;21mplot_parallel_coordinate\u001b[39m(\n\u001b[1;32m     23\u001b[0m     study: Study,\n\u001b[0;32m   (...)\u001b[0m\n\u001b[1;32m     27\u001b[0m     target_name: \u001b[38;5;28mstr\u001b[39m \u001b[38;5;241m=\u001b[39m \u001b[38;5;124m\"\u001b[39m\u001b[38;5;124mObjective Value\u001b[39m\u001b[38;5;124m\"\u001b[39m,\n\u001b[1;32m     28\u001b[0m ) \u001b[38;5;241m-\u001b[39m\u001b[38;5;241m>\u001b[39m \u001b[38;5;124m\"\u001b[39m\u001b[38;5;124mAxes\u001b[39m\u001b[38;5;124m\"\u001b[39m:\n\u001b[1;32m     29\u001b[0m \u001b[38;5;250m    \u001b[39m\u001b[38;5;124;03m\"\"\"Plot the high-dimensional parameter relationships in a study with Matplotlib.\u001b[39;00m\n\u001b[1;32m     30\u001b[0m \n\u001b[1;32m     31\u001b[0m \u001b[38;5;124;03m    Note that, if a parameter contains missing values, a trial with missing values is not plotted.\u001b[39;00m\n\u001b[0;32m   (...)\u001b[0m\n\u001b[1;32m     75\u001b[0m \u001b[38;5;124;03m        of :class:`~optuna.study.Study` is ``minimize``.\u001b[39;00m\n\u001b[1;32m     76\u001b[0m \u001b[38;5;124;03m    \"\"\"\u001b[39;00m\n\u001b[0;32m---> 78\u001b[0m     \u001b[43m_imports\u001b[49m\u001b[38;5;241;43m.\u001b[39;49m\u001b[43mcheck\u001b[49m\u001b[43m(\u001b[49m\u001b[43m)\u001b[49m\n\u001b[1;32m     79\u001b[0m     info \u001b[38;5;241m=\u001b[39m _get_parallel_coordinate_info(study, params, target, target_name)\n\u001b[1;32m     80\u001b[0m     \u001b[38;5;28;01mreturn\u001b[39;00m _get_parallel_coordinate_plot(info)\n",
      "File \u001b[0;32m/Applications/anaconda3/envs/optuna-dash/lib/python3.9/site-packages/optuna/_imports.py:89\u001b[0m, in \u001b[0;36m_DeferredImportExceptionContextManager.check\u001b[0;34m(self)\u001b[0m\n\u001b[1;32m     87\u001b[0m \u001b[38;5;28;01mif\u001b[39;00m \u001b[38;5;28mself\u001b[39m\u001b[38;5;241m.\u001b[39m_deferred \u001b[38;5;129;01mis\u001b[39;00m \u001b[38;5;129;01mnot\u001b[39;00m \u001b[38;5;28;01mNone\u001b[39;00m:\n\u001b[1;32m     88\u001b[0m     exc_value, message \u001b[38;5;241m=\u001b[39m \u001b[38;5;28mself\u001b[39m\u001b[38;5;241m.\u001b[39m_deferred\n\u001b[0;32m---> 89\u001b[0m     \u001b[38;5;28;01mraise\u001b[39;00m \u001b[38;5;167;01mImportError\u001b[39;00m(message) \u001b[38;5;28;01mfrom\u001b[39;00m \u001b[38;5;21;01mexc_value\u001b[39;00m\n",
      "\u001b[0;31mImportError\u001b[0m: Tried to import 'matplotlib' but failed. Please make sure that the package is installed correctly to use this feature. Actual error: No module named 'matplotlib'."
     ]
    }
   ],
   "source": [
    "plot_parallel_coordinate(study)"
   ]
  },
  {
   "cell_type": "code",
   "execution_count": null,
   "id": "a6bfc865-893f-473d-bc5a-3ffed04a028c",
   "metadata": {},
   "outputs": [],
   "source": []
  }
 ],
 "metadata": {
  "kernelspec": {
   "display_name": "optuna-dash",
   "language": "python",
   "name": "optuna-dash"
  },
  "language_info": {
   "codemirror_mode": {
    "name": "ipython",
    "version": 3
   },
   "file_extension": ".py",
   "mimetype": "text/x-python",
   "name": "python",
   "nbconvert_exporter": "python",
   "pygments_lexer": "ipython3",
   "version": "3.9.18"
  }
 },
 "nbformat": 4,
 "nbformat_minor": 5
}
